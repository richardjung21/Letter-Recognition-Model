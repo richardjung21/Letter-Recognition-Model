{
 "cells": [
  {
   "cell_type": "code",
   "execution_count": 1,
   "id": "a8a2389f",
   "metadata": {},
   "outputs": [],
   "source": [
    "import torch\n",
    "import torch.nn.functional as F\n",
    "from torch import nn\n",
    "from torchvision.io import read_image\n",
    "from torch.utils.data import Dataset"
   ]
  },
  {
   "cell_type": "markdown",
   "id": "6fa160b6",
   "metadata": {},
   "source": [
    "### Customizing the data to fit PyTorch DataLoader"
   ]
  },
  {
   "cell_type": "code",
   "execution_count": 2,
   "id": "681395eb",
   "metadata": {},
   "outputs": [],
   "source": [
    "batch_size = 4"
   ]
  },
  {
   "cell_type": "code",
   "execution_count": 6,
   "id": "40a2706a",
   "metadata": {
    "scrolled": true
   },
   "outputs": [
    {
     "name": "stdout",
     "output_type": "stream",
     "text": [
      "tensor([[0., 0., 0., 0., 0., 0., 0., 0.],\n",
      "        [0., 0., 0., 0., 0., 0., 0., 0.],\n",
      "        [0., 0., 0., 0., 0., 0., 0., 0.],\n",
      "        [0., 1., 1., 1., 0., 0., 0., 0.],\n",
      "        [0., 1., 1., 1., 1., 1., 0., 0.],\n",
      "        [0., 1., 0., 0., 0., 1., 1., 0.],\n",
      "        [1., 1., 0., 0., 0., 0., 1., 1.],\n",
      "        [1., 0., 0., 0., 0., 0., 0., 1.],\n",
      "        [1., 0., 0., 0., 0., 0., 0., 1.],\n",
      "        [1., 0., 0., 0., 0., 0., 0., 1.],\n",
      "        [1., 0., 0., 0., 0., 0., 1., 1.],\n",
      "        [1., 0., 0., 0., 1., 1., 1., 0.],\n",
      "        [1., 1., 1., 1., 1., 0., 0., 0.],\n",
      "        [0., 0., 0., 0., 0., 0., 0., 0.],\n",
      "        [0., 0., 0., 0., 0., 0., 0., 0.],\n",
      "        [0., 0., 0., 0., 0., 0., 0., 0.]])\n"
     ]
    }
   ],
   "source": [
    "import pandas as pd\n",
    "\n",
    "data = pd.read_csv('letter.data', sep=\"\\t\", header=None)\n",
    "test = torch.tensor(list(data.iloc[0, 6:-1].astype('float')))\n",
    "print(torch.reshape(test, (16, 8)))\n",
    "\n",
    "test2 = data[1]\n",
    "#print(list(test2))\n",
    "\n",
    "le = preprocessing.LabelEncoder()\n",
    "test3 = le.fit_transform(test2)\n",
    "#print(list(test3))"
   ]
  },
  {
   "cell_type": "code",
   "execution_count": 7,
   "id": "6782dd55",
   "metadata": {},
   "outputs": [],
   "source": [
    "test = data[data[5]==9]\n",
    "val_list = [7, 8]\n",
    "val = data[data[5].isin(val_list)]\n",
    "train = data[data[5] < 7]"
   ]
  },
  {
   "cell_type": "code",
   "execution_count": 8,
   "id": "583aae7c",
   "metadata": {},
   "outputs": [
    {
     "data": {
      "text/html": [
       "<div>\n",
       "<style scoped>\n",
       "    .dataframe tbody tr th:only-of-type {\n",
       "        vertical-align: middle;\n",
       "    }\n",
       "\n",
       "    .dataframe tbody tr th {\n",
       "        vertical-align: top;\n",
       "    }\n",
       "\n",
       "    .dataframe thead th {\n",
       "        text-align: right;\n",
       "    }\n",
       "</style>\n",
       "<table border=\"1\" class=\"dataframe\">\n",
       "  <thead>\n",
       "    <tr style=\"text-align: right;\">\n",
       "      <th></th>\n",
       "      <th>0</th>\n",
       "      <th>1</th>\n",
       "      <th>2</th>\n",
       "      <th>3</th>\n",
       "      <th>4</th>\n",
       "      <th>5</th>\n",
       "      <th>6</th>\n",
       "      <th>7</th>\n",
       "      <th>8</th>\n",
       "      <th>9</th>\n",
       "      <th>...</th>\n",
       "      <th>125</th>\n",
       "      <th>126</th>\n",
       "      <th>127</th>\n",
       "      <th>128</th>\n",
       "      <th>129</th>\n",
       "      <th>130</th>\n",
       "      <th>131</th>\n",
       "      <th>132</th>\n",
       "      <th>133</th>\n",
       "      <th>134</th>\n",
       "    </tr>\n",
       "  </thead>\n",
       "  <tbody>\n",
       "    <tr>\n",
       "      <th>9</th>\n",
       "      <td>10</td>\n",
       "      <td>o</td>\n",
       "      <td>11</td>\n",
       "      <td>2</td>\n",
       "      <td>1</td>\n",
       "      <td>7</td>\n",
       "      <td>0</td>\n",
       "      <td>0</td>\n",
       "      <td>0</td>\n",
       "      <td>0</td>\n",
       "      <td>...</td>\n",
       "      <td>0</td>\n",
       "      <td>0</td>\n",
       "      <td>0</td>\n",
       "      <td>0</td>\n",
       "      <td>0</td>\n",
       "      <td>0</td>\n",
       "      <td>0</td>\n",
       "      <td>0</td>\n",
       "      <td>0</td>\n",
       "      <td>NaN</td>\n",
       "    </tr>\n",
       "    <tr>\n",
       "      <th>10</th>\n",
       "      <td>11</td>\n",
       "      <td>m</td>\n",
       "      <td>12</td>\n",
       "      <td>2</td>\n",
       "      <td>2</td>\n",
       "      <td>7</td>\n",
       "      <td>0</td>\n",
       "      <td>0</td>\n",
       "      <td>0</td>\n",
       "      <td>0</td>\n",
       "      <td>...</td>\n",
       "      <td>0</td>\n",
       "      <td>0</td>\n",
       "      <td>0</td>\n",
       "      <td>0</td>\n",
       "      <td>0</td>\n",
       "      <td>0</td>\n",
       "      <td>0</td>\n",
       "      <td>0</td>\n",
       "      <td>0</td>\n",
       "      <td>NaN</td>\n",
       "    </tr>\n",
       "    <tr>\n",
       "      <th>11</th>\n",
       "      <td>12</td>\n",
       "      <td>m</td>\n",
       "      <td>13</td>\n",
       "      <td>2</td>\n",
       "      <td>3</td>\n",
       "      <td>7</td>\n",
       "      <td>0</td>\n",
       "      <td>0</td>\n",
       "      <td>0</td>\n",
       "      <td>0</td>\n",
       "      <td>...</td>\n",
       "      <td>0</td>\n",
       "      <td>0</td>\n",
       "      <td>0</td>\n",
       "      <td>0</td>\n",
       "      <td>0</td>\n",
       "      <td>0</td>\n",
       "      <td>0</td>\n",
       "      <td>0</td>\n",
       "      <td>0</td>\n",
       "      <td>NaN</td>\n",
       "    </tr>\n",
       "    <tr>\n",
       "      <th>12</th>\n",
       "      <td>13</td>\n",
       "      <td>a</td>\n",
       "      <td>14</td>\n",
       "      <td>2</td>\n",
       "      <td>4</td>\n",
       "      <td>7</td>\n",
       "      <td>0</td>\n",
       "      <td>0</td>\n",
       "      <td>0</td>\n",
       "      <td>0</td>\n",
       "      <td>...</td>\n",
       "      <td>0</td>\n",
       "      <td>0</td>\n",
       "      <td>0</td>\n",
       "      <td>0</td>\n",
       "      <td>0</td>\n",
       "      <td>0</td>\n",
       "      <td>0</td>\n",
       "      <td>0</td>\n",
       "      <td>0</td>\n",
       "      <td>NaN</td>\n",
       "    </tr>\n",
       "    <tr>\n",
       "      <th>13</th>\n",
       "      <td>14</td>\n",
       "      <td>n</td>\n",
       "      <td>15</td>\n",
       "      <td>2</td>\n",
       "      <td>5</td>\n",
       "      <td>7</td>\n",
       "      <td>0</td>\n",
       "      <td>0</td>\n",
       "      <td>0</td>\n",
       "      <td>0</td>\n",
       "      <td>...</td>\n",
       "      <td>0</td>\n",
       "      <td>0</td>\n",
       "      <td>0</td>\n",
       "      <td>0</td>\n",
       "      <td>0</td>\n",
       "      <td>0</td>\n",
       "      <td>0</td>\n",
       "      <td>0</td>\n",
       "      <td>0</td>\n",
       "      <td>NaN</td>\n",
       "    </tr>\n",
       "    <tr>\n",
       "      <th>...</th>\n",
       "      <td>...</td>\n",
       "      <td>...</td>\n",
       "      <td>...</td>\n",
       "      <td>...</td>\n",
       "      <td>...</td>\n",
       "      <td>...</td>\n",
       "      <td>...</td>\n",
       "      <td>...</td>\n",
       "      <td>...</td>\n",
       "      <td>...</td>\n",
       "      <td>...</td>\n",
       "      <td>...</td>\n",
       "      <td>...</td>\n",
       "      <td>...</td>\n",
       "      <td>...</td>\n",
       "      <td>...</td>\n",
       "      <td>...</td>\n",
       "      <td>...</td>\n",
       "      <td>...</td>\n",
       "      <td>...</td>\n",
       "      <td>...</td>\n",
       "    </tr>\n",
       "    <tr>\n",
       "      <th>52063</th>\n",
       "      <td>52064</td>\n",
       "      <td>n</td>\n",
       "      <td>52065</td>\n",
       "      <td>6871</td>\n",
       "      <td>10</td>\n",
       "      <td>7</td>\n",
       "      <td>0</td>\n",
       "      <td>0</td>\n",
       "      <td>0</td>\n",
       "      <td>0</td>\n",
       "      <td>...</td>\n",
       "      <td>0</td>\n",
       "      <td>0</td>\n",
       "      <td>0</td>\n",
       "      <td>0</td>\n",
       "      <td>0</td>\n",
       "      <td>0</td>\n",
       "      <td>0</td>\n",
       "      <td>0</td>\n",
       "      <td>0</td>\n",
       "      <td>NaN</td>\n",
       "    </tr>\n",
       "    <tr>\n",
       "      <th>52064</th>\n",
       "      <td>52065</td>\n",
       "      <td>t</td>\n",
       "      <td>52066</td>\n",
       "      <td>6871</td>\n",
       "      <td>11</td>\n",
       "      <td>7</td>\n",
       "      <td>0</td>\n",
       "      <td>0</td>\n",
       "      <td>0</td>\n",
       "      <td>0</td>\n",
       "      <td>...</td>\n",
       "      <td>0</td>\n",
       "      <td>0</td>\n",
       "      <td>0</td>\n",
       "      <td>0</td>\n",
       "      <td>0</td>\n",
       "      <td>0</td>\n",
       "      <td>0</td>\n",
       "      <td>0</td>\n",
       "      <td>0</td>\n",
       "      <td>NaN</td>\n",
       "    </tr>\n",
       "    <tr>\n",
       "      <th>52065</th>\n",
       "      <td>52066</td>\n",
       "      <td>i</td>\n",
       "      <td>52067</td>\n",
       "      <td>6871</td>\n",
       "      <td>12</td>\n",
       "      <td>7</td>\n",
       "      <td>0</td>\n",
       "      <td>0</td>\n",
       "      <td>1</td>\n",
       "      <td>1</td>\n",
       "      <td>...</td>\n",
       "      <td>0</td>\n",
       "      <td>0</td>\n",
       "      <td>0</td>\n",
       "      <td>0</td>\n",
       "      <td>0</td>\n",
       "      <td>1</td>\n",
       "      <td>0</td>\n",
       "      <td>0</td>\n",
       "      <td>0</td>\n",
       "      <td>NaN</td>\n",
       "    </tr>\n",
       "    <tr>\n",
       "      <th>52066</th>\n",
       "      <td>52067</td>\n",
       "      <td>a</td>\n",
       "      <td>52068</td>\n",
       "      <td>6871</td>\n",
       "      <td>13</td>\n",
       "      <td>7</td>\n",
       "      <td>0</td>\n",
       "      <td>0</td>\n",
       "      <td>0</td>\n",
       "      <td>0</td>\n",
       "      <td>...</td>\n",
       "      <td>0</td>\n",
       "      <td>0</td>\n",
       "      <td>0</td>\n",
       "      <td>0</td>\n",
       "      <td>0</td>\n",
       "      <td>0</td>\n",
       "      <td>0</td>\n",
       "      <td>0</td>\n",
       "      <td>0</td>\n",
       "      <td>NaN</td>\n",
       "    </tr>\n",
       "    <tr>\n",
       "      <th>52067</th>\n",
       "      <td>52068</td>\n",
       "      <td>l</td>\n",
       "      <td>-1</td>\n",
       "      <td>6871</td>\n",
       "      <td>14</td>\n",
       "      <td>7</td>\n",
       "      <td>0</td>\n",
       "      <td>0</td>\n",
       "      <td>0</td>\n",
       "      <td>0</td>\n",
       "      <td>...</td>\n",
       "      <td>0</td>\n",
       "      <td>0</td>\n",
       "      <td>0</td>\n",
       "      <td>0</td>\n",
       "      <td>0</td>\n",
       "      <td>1</td>\n",
       "      <td>0</td>\n",
       "      <td>0</td>\n",
       "      <td>0</td>\n",
       "      <td>NaN</td>\n",
       "    </tr>\n",
       "  </tbody>\n",
       "</table>\n",
       "<p>5370 rows × 135 columns</p>\n",
       "</div>"
      ],
      "text/plain": [
       "         0   1      2     3    4    5    6    7    8    9    ...  125  126  \\\n",
       "9         10   o     11     2    1    7    0    0    0    0  ...    0    0   \n",
       "10        11   m     12     2    2    7    0    0    0    0  ...    0    0   \n",
       "11        12   m     13     2    3    7    0    0    0    0  ...    0    0   \n",
       "12        13   a     14     2    4    7    0    0    0    0  ...    0    0   \n",
       "13        14   n     15     2    5    7    0    0    0    0  ...    0    0   \n",
       "...      ...  ..    ...   ...  ...  ...  ...  ...  ...  ...  ...  ...  ...   \n",
       "52063  52064   n  52065  6871   10    7    0    0    0    0  ...    0    0   \n",
       "52064  52065   t  52066  6871   11    7    0    0    0    0  ...    0    0   \n",
       "52065  52066   i  52067  6871   12    7    0    0    1    1  ...    0    0   \n",
       "52066  52067   a  52068  6871   13    7    0    0    0    0  ...    0    0   \n",
       "52067  52068   l     -1  6871   14    7    0    0    0    0  ...    0    0   \n",
       "\n",
       "       127  128  129  130  131  132  133  134  \n",
       "9        0    0    0    0    0    0    0  NaN  \n",
       "10       0    0    0    0    0    0    0  NaN  \n",
       "11       0    0    0    0    0    0    0  NaN  \n",
       "12       0    0    0    0    0    0    0  NaN  \n",
       "13       0    0    0    0    0    0    0  NaN  \n",
       "...    ...  ...  ...  ...  ...  ...  ...  ...  \n",
       "52063    0    0    0    0    0    0    0  NaN  \n",
       "52064    0    0    0    0    0    0    0  NaN  \n",
       "52065    0    0    0    1    0    0    0  NaN  \n",
       "52066    0    0    0    0    0    0    0  NaN  \n",
       "52067    0    0    0    1    0    0    0  NaN  \n",
       "\n",
       "[5370 rows x 135 columns]"
      ]
     },
     "execution_count": 8,
     "metadata": {},
     "output_type": "execute_result"
    }
   ],
   "source": [
    "data[data[5]==7]"
   ]
  },
  {
   "cell_type": "code",
   "execution_count": 9,
   "id": "e31f2ed6",
   "metadata": {},
   "outputs": [],
   "source": [
    "train.to_csv('train.csv', index=False, header=False)\n",
    "test.to_csv('test.csv', index=False, header=False)\n",
    "val.to_csv('val.csv', index=False, header=False)"
   ]
  },
  {
   "cell_type": "code",
   "execution_count": 10,
   "id": "d01ac1f8",
   "metadata": {
    "scrolled": true
   },
   "outputs": [
    {
     "data": {
      "text/plain": [
       "'m'"
      ]
     },
     "execution_count": 10,
     "metadata": {},
     "output_type": "execute_result"
    }
   ],
   "source": [
    "data[1].iloc[1]"
   ]
  },
  {
   "cell_type": "code",
   "execution_count": 11,
   "id": "6a770513",
   "metadata": {},
   "outputs": [
    {
     "data": {
      "image/png": "[encoded data removed]",
      "text/plain": [
       "<Figure size 640x480 with 1 Axes>"
      ]
     },
     "metadata": {},
     "output_type": "display_data"
    },
    {
     "data": {
      "image/png": "[encoded data removed]",
      "text/plain": [
       "<Figure size 640x480 with 1 Axes>"
      ]
     },
     "metadata": {},
     "output_type": "display_data"
    },
    {
     "data": {
      "image/png": "[encoded data removed]",
      "text/plain": [
       "<Figure size 640x480 with 1 Axes>"
      ]
     },
     "metadata": {},
     "output_type": "display_data"
    },
    {
     "data": {
      "image/png": "[encoded data removed]",
      "text/plain": [
       "<Figure size 640x480 with 1 Axes>"
      ]
     },
     "metadata": {},
     "output_type": "display_data"
    },
    {
     "data": {
      "image/png": "[encoded data removed]",
      "text/plain": [
       "<Figure size 640x480 with 1 Axes>"
      ]
     },
     "metadata": {},
     "output_type": "display_data"
    },
    {
     "data": {
      "image/png": "[encoded data removed]",
      "text/plain": [
       "<Figure size 640x480 with 1 Axes>"
      ]
     },
     "metadata": {},
     "output_type": "display_data"
    },
    {
     "data": {
      "image/png": "[encoded data removed]",
      "text/plain": [
       "<Figure size 640x480 with 1 Axes>"
      ]
     },
     "metadata": {},
     "output_type": "display_data"
    },
    {
     "data": {
      "image/png": "[encoded data removed]",
      "text/plain": [
       "<Figure size 640x480 with 1 Axes>"
      ]
     },
     "metadata": {},
     "output_type": "display_data"
    },
    {
     "data": {
      "image/png": "[encoded data removed]",
      "text/plain": [
       "<Figure size 640x480 with 1 Axes>"
      ]
     },
     "metadata": {},
     "output_type": "display_data"
    },
    {
     "data": {
      "image/png": "[encoded data removed]",
      "text/plain": [
       "<Figure size 640x480 with 1 Axes>"
      ]
     },
     "metadata": {},
     "output_type": "display_data"
    },
    {
     "data": {
      "image/png": "[encoded data removed]",
      "text/plain": [
       "<Figure size 640x480 with 1 Axes>"
      ]
     },
     "metadata": {},
     "output_type": "display_data"
    },
    {
     "data": {
      "image/png": "[encoded data removed]",
      "text/plain": [
       "<Figure size 640x480 with 1 Axes>"
      ]
     },
     "metadata": {},
     "output_type": "display_data"
    },
    {
     "data": {
      "image/png": "[encoded data removed]",
      "text/plain": [
       "<Figure size 640x480 with 1 Axes>"
      ]
     },
     "metadata": {},
     "output_type": "display_data"
    },
    {
     "data": {
      "image/png": "[encoded data removed]",
      "text/plain": [
       "<Figure size 640x480 with 1 Axes>"
      ]
     },
     "metadata": {},
     "output_type": "display_data"
    },
    {
     "data": {
      "image/png": "[encoded data removed]",
      "text/plain": [
       "<Figure size 640x480 with 1 Axes>"
      ]
     },
     "metadata": {},
     "output_type": "display_data"
    },
    {
     "data": {
      "image/png": "[encoded data removed]",
      "text/plain": [
       "<Figure size 640x480 with 1 Axes>"
      ]
     },
     "metadata": {},
     "output_type": "display_data"
    },
    {
     "data": {
      "image/png": "[encoded data removed]",
      "text/plain": [
       "<Figure size 640x480 with 1 Axes>"
      ]
     },
     "metadata": {},
     "output_type": "display_data"
    },
    {
     "data": {
      "image/png": "[encoded data removed]",
      "text/plain": [
       "<Figure size 640x480 with 1 Axes>"
      ]
     },
     "metadata": {},
     "output_type": "display_data"
    },
    {
     "data": {
      "image/png": "[encoded data removed]",
      "text/plain": [
       "<Figure size 640x480 with 1 Axes>"
      ]
     },
     "metadata": {},
     "output_type": "display_data"
    },
    {
     "data": {
      "image/png": "[encoded data removed]",
      "text/plain": [
       "<Figure size 640x480 with 1 Axes>"
      ]
     },
     "metadata": {},
     "output_type": "display_data"
    }
   ],
   "source": [
    "import matplotlib.pyplot as plt\n",
    "\n",
    "for tests in range(10000, 10020):\n",
    "    image = list(data.iloc[tests])\n",
    "\n",
    "    image = image[6:]\n",
    "\n",
    "    X = []\n",
    "    for i in range(16):\n",
    "        X.append([])\n",
    "        for j in range(8):\n",
    "            if(image[i*8+j] != None):\n",
    "                X[i].append(image[(i*8)+j])\n",
    "\n",
    "    im = plt.imshow(X, cmap='Greys')\n",
    "    plt.show()"
   ]
  },
  {
   "cell_type": "code",
   "execution_count": 121,
   "id": "f6dfcbe7",
   "metadata": {},
   "outputs": [],
   "source": [
    "from sklearn import preprocessing\n",
    "import torch\n",
    "\n",
    "#Another preprocessing step required\n",
    "\n",
    "class CustomImageDataset(Dataset):\n",
    "    le = preprocessing.LabelEncoder()\n",
    "    \n",
    "    def __init__(self, annotations_file, transform=None, target_transform=None):\n",
    "        self.img_file = pd.read_csv(annotations_file, sep=\",\", header=None) #Customized for .data file\n",
    "        self.img_labels = self.img_file[1]\n",
    "        self.img_labels = list(le.fit_transform(list(self.img_labels)))\n",
    "        #self.img_dir = img_dir #Can be redacted\n",
    "        self.transform = transform\n",
    "        self.target_transform = target_transform\n",
    "\n",
    "    def __len__(self):\n",
    "        return len(self.img_labels)\n",
    "\n",
    "    def __getitem__(self, idx):\n",
    "        #####################################################################\n",
    "        #                                                                   #\n",
    "        #img_path = os.path.join(self.img_dir, self.img_labels.iloc[idx, 0])#\n",
    "        #image = read_image(img_path)                                       #\n",
    "        #                                                                   #\n",
    "        ###### No longer required as images are in .data file ###############\n",
    "        image = torch.tensor(list(self.img_file.iloc[idx, 6:-1].astype('float')))\n",
    "        image = torch.reshape(image, (1, 16, 8))\n",
    "        label = self.img_labels\n",
    "        label = torch.as_tensor(label)[idx]\n",
    "        if self.transform:\n",
    "            image = self.transform(image)\n",
    "        if self.target_transform:\n",
    "            label = self.target_transform(label)\n",
    "        return image, label"
   ]
  },
  {
   "cell_type": "code",
   "execution_count": 122,
   "id": "088614bc",
   "metadata": {},
   "outputs": [],
   "source": [
    "from torch.utils.data import DataLoader\n",
    "\n",
    "training_data = CustomImageDataset('train.csv')\n",
    "test_data = CustomImageDataset('test.csv')\n",
    "validation_data = CustomImageDataset('val.csv')\n",
    "\n",
    "training_loader = torch.utils.data.DataLoader(training_data, batch_size=4, shuffle=True, drop_last=True)\n",
    "testing_loader = torch.utils.data.DataLoader(test_data, batch_size=4, shuffle=False)\n",
    "validation_loader = torch.utils.data.DataLoader(validation_data, batch_size=4, shuffle=True, drop_last=True)"
   ]
  },
  {
   "cell_type": "code",
   "execution_count": 123,
   "id": "87a4f6de",
   "metadata": {},
   "outputs": [
    {
     "name": "stdout",
     "output_type": "stream",
     "text": [
      "Feature batch shape: torch.Size([4, 1, 16, 8])\n",
      "Labels batch shape: torch.Size([4])\n"
     ]
    },
    {
     "data": {
      "image/png": "[encoded data removed]",
      "text/plain": [
       "<Figure size 640x480 with 1 Axes>"
      ]
     },
     "metadata": {},
     "output_type": "display_data"
    },
    {
     "name": "stdout",
     "output_type": "stream",
     "text": [
      "Label: 13\n"
     ]
    }
   ],
   "source": [
    "train_features, train_labels = next(iter(training_loader))\n",
    "print(f\"Feature batch shape: {train_features.size()}\")\n",
    "print(f\"Labels batch shape: {train_labels.size()}\")\n",
    "img = train_features[0].squeeze()\n",
    "label = train_labels[0]\n",
    "plt.imshow(img, cmap=\"gray\")\n",
    "plt.show()\n",
    "print(f\"Label: {label}\")"
   ]
  },
  {
   "cell_type": "markdown",
   "id": "832be987",
   "metadata": {},
   "source": [
    "### Training Model"
   ]
  },
  {
   "cell_type": "code",
   "execution_count": 38,
   "id": "9cbf6b9e",
   "metadata": {},
   "outputs": [
    {
     "name": "stdout",
     "output_type": "stream",
     "text": [
      "Using cpu device\n"
     ]
    }
   ],
   "source": [
    "device = (\n",
    "    \"cuda\"\n",
    "    if torch.cuda.is_available()\n",
    "    else \"mps\"\n",
    "    if torch.backends.mps.is_available()\n",
    "    else \"cpu\"\n",
    ")\n",
    "print(f\"Using {device} device\")"
   ]
  },
  {
   "cell_type": "code",
   "execution_count": 153,
   "id": "f116755d",
   "metadata": {},
   "outputs": [],
   "source": [
    "class Model(torch.nn.Module):\n",
    "    def __init__(self):\n",
    "        super(Model, self).__init__()\n",
    "        \n",
    "        self.conv1 = torch.nn.Conv2d(1, 32, 3, padding=1)\n",
    "        self.conv2 = torch.nn.Conv2d(32, 64, 3, padding=1)\n",
    "        \n",
    "        self.fc1 = torch.nn.Linear(2048, 512) #Edited for model 2\n",
    "        self.batch_norm = torch.nn.BatchNorm1d(512)\n",
    "        self.fc2 = torch.nn.Linear(512, 26) #Edited for model 2\n",
    "        \n",
    "    def forward(self, x):\n",
    "        x = F.max_pool2d(F.relu(self.conv1(x)), (2, 2))\n",
    "        x = F.relu(self.conv2(x))\n",
    "        #print('x_shape:', x.shape)\n",
    "        x = x.view(-1, self.num_flat_features(x))\n",
    "        x = F.dropout(x)\n",
    "        x = F.relu(self.fc1(x))\n",
    "        x = self.batch_norm(x)\n",
    "        x = F.relu(self.fc2(x)) #Added for model 2\n",
    "        return x\n",
    "    \n",
    "    def num_flat_features(self, x):\n",
    "        size = x.size()[1:]\n",
    "        num_features = 1\n",
    "        for s in size:\n",
    "            num_features *= s\n",
    "        return num_features\n",
    "    \n",
    "model = Model().to(device)"
   ]
  },
  {
   "cell_type": "code",
   "execution_count": 154,
   "id": "c4c4881c",
   "metadata": {},
   "outputs": [
    {
     "name": "stdout",
     "output_type": "stream",
     "text": [
      "Model(\n",
      "  (conv1): Conv2d(1, 32, kernel_size=(3, 3), stride=(1, 1), padding=(1, 1))\n",
      "  (conv2): Conv2d(32, 64, kernel_size=(3, 3), stride=(1, 1), padding=(1, 1))\n",
      "  (fc1): Linear(in_features=2048, out_features=512, bias=True)\n",
      "  (batch_norm): BatchNorm1d(512, eps=1e-05, momentum=0.1, affine=True, track_running_stats=True)\n",
      "  (fc2): Linear(in_features=512, out_features=26, bias=True)\n",
      ")\n"
     ]
    }
   ],
   "source": [
    "print(model)"
   ]
  },
  {
   "cell_type": "markdown",
   "id": "b6447df8",
   "metadata": {},
   "source": [
    "### Testing the model"
   ]
  },
  {
   "cell_type": "code",
   "execution_count": 155,
   "id": "e9a5a185",
   "metadata": {},
   "outputs": [
    {
     "data": {
      "text/plain": [
       "tensor([[0.3044, 0.3488, 0.0000, 0.1053, 0.2115, 0.0000, 0.0000, 0.0000, 0.0000,\n",
       "         0.0000, 0.2890, 0.1358, 0.0849, 0.1942, 0.1544, 0.2977, 0.1573, 0.0000,\n",
       "         0.0563, 0.0000, 0.0000, 0.0000, 0.0000, 0.3122, 0.0000, 0.9107],\n",
       "        [0.1225, 0.3062, 0.0174, 0.0116, 0.1000, 0.1431, 0.1966, 0.8669, 0.2769,\n",
       "         0.6649, 0.0655, 0.0000, 0.0000, 0.0000, 0.6912, 0.0000, 0.5895, 0.7052,\n",
       "         0.0000, 0.0000, 0.0778, 1.3012, 0.0000, 0.2084, 0.3918, 0.0000],\n",
       "        [0.0000, 0.0649, 1.1189, 0.0965, 0.6188, 0.1973, 0.0000, 0.9881, 0.1051,\n",
       "         0.7002, 0.0000, 0.5557, 0.0000, 0.6222, 0.6205, 0.1302, 0.0000, 0.0000,\n",
       "         0.5945, 0.3034, 0.7764, 0.0000, 0.0000, 0.0000, 0.0000, 0.5401],\n",
       "        [0.0000, 0.0000, 0.0000, 0.0000, 0.0000, 0.6441, 0.6438, 0.0000, 0.0000,\n",
       "         0.2430, 0.0666, 0.0000, 1.1816, 0.0000, 0.0000, 0.0000, 0.0000, 0.3813,\n",
       "         0.5981, 0.0800, 0.0000, 0.0000, 0.3035, 0.0953, 0.7992, 0.0000],\n",
       "        [0.1939, 0.0000, 0.3936, 0.6276, 0.0017, 0.0000, 0.1475, 0.0000, 0.0000,\n",
       "         0.0000, 0.0000, 0.0000, 0.2962, 0.0000, 0.0000, 0.6294, 0.1149, 0.4446,\n",
       "         0.0000, 0.0000, 0.0000, 0.0000, 0.2511, 0.0200, 0.3559, 0.0000]],\n",
       "       grad_fn=<ReluBackward0>)"
      ]
     },
     "execution_count": 155,
     "metadata": {},
     "output_type": "execute_result"
    }
   ],
   "source": [
    "test5 = torch.rand(5, 1, 16, 8, device=device)\n",
    "model(test5)"
   ]
  },
  {
   "cell_type": "code",
   "execution_count": 156,
   "id": "9e55260c",
   "metadata": {},
   "outputs": [
    {
     "name": "stdout",
     "output_type": "stream",
     "text": [
      "Predicted class: tensor([ 0, 22, 21, 16, 12])\n"
     ]
    }
   ],
   "source": [
    "test5 = torch.rand(5, 1, 16, 8, device=device)\n",
    "log = model(test5)\n",
    "pred_probab = nn.Softmax(dim=1)(log)\n",
    "y_pred = pred_probab.argmax(1)\n",
    "print(f\"Predicted class: {y_pred}\")"
   ]
  },
  {
   "cell_type": "markdown",
   "id": "4bef2792",
   "metadata": {},
   "source": [
    "### Loss function"
   ]
  },
  {
   "cell_type": "code",
   "execution_count": 157,
   "id": "eefd395b",
   "metadata": {},
   "outputs": [
    {
     "name": "stdout",
     "output_type": "stream",
     "text": [
      "tensor([[0.2123, 0.2565, 0.3248, 0.7691, 0.1475, 0.2774, 0.7879, 0.0717, 0.0901,\n",
      "         0.6179],\n",
      "        [0.1435, 0.8336, 0.8057, 0.9056, 0.2404, 0.3883, 0.7007, 0.7155, 0.5537,\n",
      "         0.8340],\n",
      "        [0.1648, 0.1966, 0.4013, 0.6418, 0.0276, 0.0149, 0.0990, 0.2508, 0.4559,\n",
      "         0.5843],\n",
      "        [0.8468, 0.5361, 0.1835, 0.4505, 0.2196, 0.3973, 0.8531, 0.3239, 0.8429,\n",
      "         0.9676]])\n",
      "tensor([1, 5, 3, 7])\n",
      "Total loss for this batch: 2.3850436210632324\n"
     ]
    }
   ],
   "source": [
    "loss_fn = torch.nn.CrossEntropyLoss()\n",
    "\n",
    "#Just an example to check the calculation from cross entropy loss\n",
    "#################################################################\n",
    "dummy_outputs = torch.rand(4, 10)\n",
    "\n",
    "dummy_labels = torch.tensor([1,5,3,7])\n",
    "\n",
    "print(dummy_outputs)\n",
    "print(dummy_labels)\n",
    "\n",
    "loss = loss_fn(dummy_outputs, dummy_labels)\n",
    "print('Total loss for this batch: {}'.format(loss.item()))\n",
    "#################################################################"
   ]
  },
  {
   "cell_type": "markdown",
   "id": "95b905c8",
   "metadata": {},
   "source": [
    "### Optimizer"
   ]
  },
  {
   "cell_type": "code",
   "execution_count": 158,
   "id": "545335a1",
   "metadata": {},
   "outputs": [],
   "source": [
    "optimizer = torch.optim.SGD(model.parameters(), lr=0.001, momentum=0.9)"
   ]
  },
  {
   "cell_type": "markdown",
   "id": "932c1a6f",
   "metadata": {},
   "source": [
    "### Full Implementation (https://pytorch.org/tutorials/beginner/basics/optimization_tutorial.html)"
   ]
  },
  {
   "cell_type": "code",
   "execution_count": 22,
   "id": "3ddc9725",
   "metadata": {},
   "outputs": [
    {
     "name": "stdout",
     "output_type": "stream",
     "text": [
      "9077\n"
     ]
    }
   ],
   "source": [
    "print(len(training_loader))"
   ]
  },
  {
   "cell_type": "code",
   "execution_count": 23,
   "id": "ccdb33e2",
   "metadata": {},
   "outputs": [
    {
     "data": {
      "text/plain": [
       "36309"
      ]
     },
     "execution_count": 23,
     "metadata": {},
     "output_type": "execute_result"
    }
   ],
   "source": [
    "len(training_loader.dataset)"
   ]
  },
  {
   "cell_type": "markdown",
   "id": "41af5c14",
   "metadata": {},
   "source": [
    "# Deactivate"
   ]
  },
  {
   "cell_type": "code",
   "execution_count": 41,
   "id": "93659a71",
   "metadata": {},
   "outputs": [],
   "source": [
    "def train_loop(dataloader, model, loss_fn, optimizer):\n",
    "    size = len(dataloader.dataset)\n",
    "    # Set the model to training mode - important for batch normalization and dropout layers\n",
    "    # Unnecessary in this situation but added for best practices\n",
    "    model.train()\n",
    "    for batch, (X, y) in enumerate(dataloader):\n",
    "        # Compute prediction and loss\n",
    "        pred = model(X)\n",
    "        loss = loss_fn(pred, y)\n",
    "\n",
    "        # Backpropagation\n",
    "        loss.backward()\n",
    "        optimizer.step()\n",
    "        optimizer.zero_grad()\n",
    "\n",
    "        if batch % 100 == 0:\n",
    "            loss, current = loss.item(), batch * batch_size + len(X)\n",
    "            print(f\"loss: {loss:>7f}  [{current:>5d}/{size:>5d}]\")\n",
    "\n",
    "\n",
    "def validation_loop(dataloader, model, loss_fn):\n",
    "    \n",
    "            \n",
    "def test_loop(dataloader, model, loss_fn):\n",
    "    # Set the model to evaluation mode - important for batch normalization and dropout layers\n",
    "    # Unnecessary in this situation but added for best practices\n",
    "    model.eval()\n",
    "    size = len(dataloader.dataset)\n",
    "    num_batches = len(dataloader)\n",
    "    test_loss, correct = 0, 0\n",
    "\n",
    "    # Evaluating the model with torch.no_grad() ensures that no gradients are computed during test mode\n",
    "    # also serves to reduce unnecessary gradient computations and memory usage for tensors with requires_grad=True\n",
    "    with torch.no_grad():\n",
    "        for X, y in dataloader:\n",
    "            pred = model(X)\n",
    "            test_loss += loss_fn(pred, y).item()\n",
    "            correct += (pred.argmax(1) == y).type(torch.float).sum().item()\n",
    "\n",
    "    test_loss /= num_batches\n",
    "    correct /= size\n",
    "    print(f\"Test Error: \\n Accuracy: {(100*correct):>0.1f}%, Avg loss: {test_loss:>8f} \\n\")"
   ]
  },
  {
   "cell_type": "code",
   "execution_count": 18,
   "id": "cb2e7e2b",
   "metadata": {},
   "outputs": [
    {
     "name": "stdout",
     "output_type": "stream",
     "text": [
      "Epoch 1\n",
      "-------------------------------\n",
      "loss: 0.536465  [    4/36309]\n",
      "loss: 0.157256  [  404/36309]\n",
      "loss: 0.362432  [  804/36309]\n",
      "loss: 0.897912  [ 1204/36309]\n",
      "loss: 0.102321  [ 1604/36309]\n",
      "loss: 1.184547  [ 2004/36309]\n",
      "loss: 0.706657  [ 2404/36309]\n",
      "loss: 1.472825  [ 2804/36309]\n",
      "loss: 1.299347  [ 3204/36309]\n",
      "loss: 1.050482  [ 3604/36309]\n",
      "loss: 1.607230  [ 4004/36309]\n",
      "loss: 0.788876  [ 4404/36309]\n",
      "loss: 0.394077  [ 4804/36309]\n",
      "loss: 0.820280  [ 5204/36309]\n",
      "loss: 1.436058  [ 5604/36309]\n",
      "loss: 0.395380  [ 6004/36309]\n",
      "loss: 0.581834  [ 6404/36309]\n",
      "loss: 0.448915  [ 6804/36309]\n",
      "loss: 1.141622  [ 7204/36309]\n",
      "loss: 0.244426  [ 7604/36309]\n",
      "loss: 0.638147  [ 8004/36309]\n",
      "loss: 2.811314  [ 8404/36309]\n",
      "loss: 1.195581  [ 8804/36309]\n",
      "loss: 2.151495  [ 9204/36309]\n",
      "loss: 1.509534  [ 9604/36309]\n",
      "loss: 0.355637  [10004/36309]\n",
      "loss: 0.549079  [10404/36309]\n",
      "loss: 1.654608  [10804/36309]\n",
      "loss: 1.174178  [11204/36309]\n",
      "loss: 2.501193  [11604/36309]\n",
      "loss: 0.203651  [12004/36309]\n",
      "loss: 1.552639  [12404/36309]\n",
      "loss: 0.304238  [12804/36309]\n",
      "loss: 0.651686  [13204/36309]\n",
      "loss: 1.662242  [13604/36309]\n",
      "loss: 0.325185  [14004/36309]\n",
      "loss: 0.528835  [14404/36309]\n",
      "loss: 1.206421  [14804/36309]\n",
      "loss: 0.264782  [15204/36309]\n",
      "loss: 2.358907  [15604/36309]\n",
      "loss: 1.938415  [16004/36309]\n",
      "loss: 0.933403  [16404/36309]\n",
      "loss: 0.030344  [16804/36309]\n",
      "loss: 1.471159  [17204/36309]\n",
      "loss: 0.998651  [17604/36309]\n",
      "loss: 1.518895  [18004/36309]\n",
      "loss: 0.211960  [18404/36309]\n",
      "loss: 1.843310  [18804/36309]\n",
      "loss: 1.342774  [19204/36309]\n",
      "loss: 1.092129  [19604/36309]\n",
      "loss: 1.203335  [20004/36309]\n",
      "loss: 1.060476  [20404/36309]\n",
      "loss: 0.412767  [20804/36309]\n",
      "loss: 0.278037  [21204/36309]\n",
      "loss: 1.823962  [21604/36309]\n",
      "loss: 1.698092  [22004/36309]\n",
      "loss: 0.595839  [22404/36309]\n",
      "loss: 2.783891  [22804/36309]\n",
      "loss: 0.531071  [23204/36309]\n",
      "loss: 0.640399  [23604/36309]\n",
      "loss: 1.054145  [24004/36309]\n",
      "loss: 3.116696  [24404/36309]\n",
      "loss: 0.768746  [24804/36309]\n",
      "loss: 0.205468  [25204/36309]\n",
      "loss: 0.098685  [25604/36309]\n",
      "loss: 0.209998  [26004/36309]\n",
      "loss: 0.972528  [26404/36309]\n",
      "loss: 0.118702  [26804/36309]\n",
      "loss: 0.883421  [27204/36309]\n",
      "loss: 0.426149  [27604/36309]\n",
      "loss: 0.401667  [28004/36309]\n",
      "loss: 0.071649  [28404/36309]\n",
      "loss: 0.136822  [28804/36309]\n",
      "loss: 1.248438  [29204/36309]\n",
      "loss: 0.094814  [29604/36309]\n",
      "loss: 1.067677  [30004/36309]\n",
      "loss: 0.986529  [30404/36309]\n",
      "loss: 0.196670  [30804/36309]\n",
      "loss: 1.956182  [31204/36309]\n",
      "loss: 1.618476  [31604/36309]\n",
      "loss: 2.111717  [32004/36309]\n",
      "loss: 0.094651  [32404/36309]\n",
      "loss: 0.518287  [32804/36309]\n",
      "loss: 0.217107  [33204/36309]\n",
      "loss: 0.094494  [33604/36309]\n",
      "loss: 1.637890  [34004/36309]\n",
      "loss: 0.132895  [34404/36309]\n",
      "loss: 0.758333  [34804/36309]\n",
      "loss: 0.066298  [35204/36309]\n",
      "loss: 0.895581  [35604/36309]\n",
      "loss: 0.586660  [36004/36309]\n",
      "Test Error: \n",
      " Accuracy: 78.1%, Avg loss: 0.783643 \n",
      "\n",
      "Epoch 2\n",
      "-------------------------------\n",
      "loss: 1.285522  [    4/36309]\n",
      "loss: 1.260001  [  404/36309]\n",
      "loss: 0.025998  [  804/36309]\n",
      "loss: 0.916857  [ 1204/36309]\n",
      "loss: 1.521510  [ 1604/36309]\n",
      "loss: 0.926919  [ 2004/36309]\n",
      "loss: 0.470114  [ 2404/36309]\n",
      "loss: 1.428508  [ 2804/36309]\n",
      "loss: 2.303809  [ 3204/36309]\n",
      "loss: 1.333151  [ 3604/36309]\n",
      "loss: 0.472130  [ 4004/36309]\n",
      "loss: 1.055511  [ 4404/36309]\n",
      "loss: 1.049520  [ 4804/36309]\n",
      "loss: 1.148843  [ 5204/36309]\n",
      "loss: 0.716508  [ 5604/36309]\n",
      "loss: 1.665686  [ 6004/36309]\n",
      "loss: 1.437888  [ 6404/36309]\n",
      "loss: 0.098274  [ 6804/36309]\n",
      "loss: 0.538161  [ 7204/36309]\n",
      "loss: 0.169050  [ 7604/36309]\n",
      "loss: 0.093616  [ 8004/36309]\n",
      "loss: 0.107422  [ 8404/36309]\n",
      "loss: 0.159203  [ 8804/36309]\n",
      "loss: 0.296457  [ 9204/36309]\n",
      "loss: 0.273254  [ 9604/36309]\n",
      "loss: 1.756422  [10004/36309]\n",
      "loss: 1.331984  [10404/36309]\n",
      "loss: 0.292422  [10804/36309]\n",
      "loss: 0.124112  [11204/36309]\n",
      "loss: 0.134538  [11604/36309]\n",
      "loss: 0.475033  [12004/36309]\n",
      "loss: 2.126065  [12404/36309]\n",
      "loss: 1.136630  [12804/36309]\n",
      "loss: 1.281299  [13204/36309]\n",
      "loss: 1.233192  [13604/36309]\n",
      "loss: 0.181473  [14004/36309]\n",
      "loss: 0.236089  [14404/36309]\n",
      "loss: 0.096385  [14804/36309]\n",
      "loss: 1.187615  [15204/36309]\n",
      "loss: 1.339904  [15604/36309]\n",
      "loss: 0.528933  [16004/36309]\n",
      "loss: 0.092170  [16404/36309]\n",
      "loss: 1.346573  [16804/36309]\n",
      "loss: 0.085393  [17204/36309]\n",
      "loss: 2.288570  [17604/36309]\n",
      "loss: 0.750271  [18004/36309]\n",
      "loss: 0.320827  [18404/36309]\n",
      "loss: 0.773068  [18804/36309]\n",
      "loss: 0.559940  [19204/36309]\n",
      "loss: 0.038989  [19604/36309]\n",
      "loss: 1.139004  [20004/36309]\n",
      "loss: 0.978450  [20404/36309]\n",
      "loss: 0.404433  [20804/36309]\n",
      "loss: 0.291286  [21204/36309]\n",
      "loss: 1.098206  [21604/36309]\n",
      "loss: 0.576337  [22004/36309]\n",
      "loss: 0.218671  [22404/36309]\n",
      "loss: 0.547673  [22804/36309]\n",
      "loss: 0.586260  [23204/36309]\n",
      "loss: 0.772755  [23604/36309]\n",
      "loss: 0.181393  [24004/36309]\n",
      "loss: 0.309082  [24404/36309]\n",
      "loss: 1.271889  [24804/36309]\n",
      "loss: 1.809869  [25204/36309]\n",
      "loss: 0.556441  [25604/36309]\n",
      "loss: 0.082554  [26004/36309]\n",
      "loss: 0.882346  [26404/36309]\n",
      "loss: 0.970752  [26804/36309]\n",
      "loss: 0.512470  [27204/36309]\n",
      "loss: 1.505931  [27604/36309]\n",
      "loss: 1.252715  [28004/36309]\n",
      "loss: 0.459084  [28404/36309]\n",
      "loss: 1.235682  [28804/36309]\n",
      "loss: 0.030720  [29204/36309]\n",
      "loss: 0.096202  [29604/36309]\n",
      "loss: 1.313035  [30004/36309]\n",
      "loss: 0.137695  [30404/36309]\n",
      "loss: 0.218626  [30804/36309]\n",
      "loss: 0.407276  [31204/36309]\n",
      "loss: 0.201401  [31604/36309]\n",
      "loss: 0.491189  [32004/36309]\n",
      "loss: 0.645157  [32404/36309]\n",
      "loss: 1.046214  [32804/36309]\n",
      "loss: 0.732680  [33204/36309]\n",
      "loss: 0.091133  [33604/36309]\n",
      "loss: 0.089110  [34004/36309]\n",
      "loss: 0.906005  [34404/36309]\n",
      "loss: 0.024853  [34804/36309]\n",
      "loss: 0.475392  [35204/36309]\n",
      "loss: 0.990540  [35604/36309]\n",
      "loss: 1.255361  [36004/36309]\n",
      "Test Error: \n",
      " Accuracy: 80.0%, Avg loss: 0.707725 \n",
      "\n",
      "Epoch 3\n",
      "-------------------------------\n",
      "loss: 0.338447  [    4/36309]\n",
      "loss: 1.432214  [  404/36309]\n",
      "loss: 0.397081  [  804/36309]\n",
      "loss: 0.617426  [ 1204/36309]\n",
      "loss: 0.361340  [ 1604/36309]\n",
      "loss: 0.119648  [ 2004/36309]\n",
      "loss: 1.058762  [ 2404/36309]\n",
      "loss: 0.069531  [ 2804/36309]\n",
      "loss: 0.200871  [ 3204/36309]\n",
      "loss: 0.288887  [ 3604/36309]\n",
      "loss: 0.715982  [ 4004/36309]\n",
      "loss: 0.471741  [ 4404/36309]\n",
      "loss: 1.323033  [ 4804/36309]\n",
      "loss: 0.590808  [ 5204/36309]\n",
      "loss: 0.257747  [ 5604/36309]\n",
      "loss: 0.447934  [ 6004/36309]\n",
      "loss: 0.104041  [ 6404/36309]\n",
      "loss: 0.702425  [ 6804/36309]\n",
      "loss: 0.073907  [ 7204/36309]\n",
      "loss: 0.088916  [ 7604/36309]\n",
      "loss: 0.610655  [ 8004/36309]\n",
      "loss: 1.281692  [ 8404/36309]\n",
      "loss: 2.222596  [ 8804/36309]\n",
      "loss: 0.595479  [ 9204/36309]\n",
      "loss: 0.098300  [ 9604/36309]\n",
      "loss: 0.205486  [10004/36309]\n",
      "loss: 0.309788  [10404/36309]\n",
      "loss: 1.886803  [10804/36309]\n",
      "loss: 0.457437  [11204/36309]\n",
      "loss: 0.440116  [11604/36309]\n",
      "loss: 0.406155  [12004/36309]\n",
      "loss: 0.767330  [12404/36309]\n",
      "loss: 0.552973  [12804/36309]\n",
      "loss: 0.821713  [13204/36309]\n",
      "loss: 0.391908  [13604/36309]\n",
      "loss: 2.263928  [14004/36309]\n",
      "loss: 0.565735  [14404/36309]\n",
      "loss: 0.023723  [14804/36309]\n",
      "loss: 1.265869  [15204/36309]\n",
      "loss: 0.431811  [15604/36309]\n",
      "loss: 0.560149  [16004/36309]\n",
      "loss: 1.376469  [16404/36309]\n",
      "loss: 1.901778  [16804/36309]\n",
      "loss: 3.230732  [17204/36309]\n",
      "loss: 0.052586  [17604/36309]\n",
      "loss: 0.702921  [18004/36309]\n",
      "loss: 0.446636  [18404/36309]\n",
      "loss: 1.450544  [18804/36309]\n",
      "loss: 0.116439  [19204/36309]\n",
      "loss: 0.109951  [19604/36309]\n",
      "loss: 0.950808  [20004/36309]\n",
      "loss: 1.247071  [20404/36309]\n",
      "loss: 0.030185  [20804/36309]\n",
      "loss: 0.102402  [21204/36309]\n",
      "loss: 1.148872  [21604/36309]\n",
      "loss: 0.039862  [22004/36309]\n",
      "loss: 0.944567  [22404/36309]\n",
      "loss: 1.456265  [22804/36309]\n",
      "loss: 0.045214  [23204/36309]\n",
      "loss: 0.949541  [23604/36309]\n",
      "loss: 2.059834  [24004/36309]\n",
      "loss: 0.519858  [24404/36309]\n",
      "loss: 0.255572  [24804/36309]\n",
      "loss: 2.260567  [25204/36309]\n",
      "loss: 0.801866  [25604/36309]\n",
      "loss: 0.208921  [26004/36309]\n",
      "loss: 0.966144  [26404/36309]\n",
      "loss: 0.585861  [26804/36309]\n",
      "loss: 0.151874  [27204/36309]\n",
      "loss: 0.549649  [27604/36309]\n",
      "loss: 0.283003  [28004/36309]\n",
      "loss: 0.182060  [28404/36309]\n",
      "loss: 0.045765  [28804/36309]\n",
      "loss: 2.069018  [29204/36309]\n",
      "loss: 0.820809  [29604/36309]\n",
      "loss: 0.084471  [30004/36309]\n",
      "loss: 1.369262  [30404/36309]\n",
      "loss: 0.039183  [30804/36309]\n",
      "loss: 0.083269  [31204/36309]\n",
      "loss: 0.095531  [31604/36309]\n",
      "loss: 1.084843  [32004/36309]\n",
      "loss: 1.503964  [32404/36309]\n",
      "loss: 0.148321  [32804/36309]\n",
      "loss: 0.616673  [33204/36309]\n"
     ]
    },
    {
     "name": "stdout",
     "output_type": "stream",
     "text": [
      "loss: 0.380714  [33604/36309]\n",
      "loss: 2.241446  [34004/36309]\n",
      "loss: 0.685241  [34404/36309]\n",
      "loss: 0.275216  [34804/36309]\n",
      "loss: 0.383212  [35204/36309]\n",
      "loss: 1.280445  [35604/36309]\n",
      "loss: 2.174157  [36004/36309]\n",
      "Test Error: \n",
      " Accuracy: 81.1%, Avg loss: 0.666422 \n",
      "\n",
      "Epoch 4\n",
      "-------------------------------\n",
      "loss: 2.297645  [    4/36309]\n",
      "loss: 2.139495  [  404/36309]\n",
      "loss: 0.193729  [  804/36309]\n",
      "loss: 0.145982  [ 1204/36309]\n",
      "loss: 0.075255  [ 1604/36309]\n",
      "loss: 0.474250  [ 2004/36309]\n",
      "loss: 1.751922  [ 2404/36309]\n",
      "loss: 0.143930  [ 2804/36309]\n",
      "loss: 1.303412  [ 3204/36309]\n",
      "loss: 0.088319  [ 3604/36309]\n",
      "loss: 1.911556  [ 4004/36309]\n",
      "loss: 0.449457  [ 4404/36309]\n",
      "loss: 0.947484  [ 4804/36309]\n",
      "loss: 1.253420  [ 5204/36309]\n",
      "loss: 0.573160  [ 5604/36309]\n",
      "loss: 1.085067  [ 6004/36309]\n",
      "loss: 0.676294  [ 6404/36309]\n",
      "loss: 0.333907  [ 6804/36309]\n",
      "loss: 0.102483  [ 7204/36309]\n",
      "loss: 0.538119  [ 7604/36309]\n",
      "loss: 0.174744  [ 8004/36309]\n",
      "loss: 0.160240  [ 8404/36309]\n",
      "loss: 0.100822  [ 8804/36309]\n",
      "loss: 0.006578  [ 9204/36309]\n",
      "loss: 0.939619  [ 9604/36309]\n",
      "loss: 0.290020  [10004/36309]\n",
      "loss: 1.088059  [10404/36309]\n",
      "loss: 1.353969  [10804/36309]\n",
      "loss: 1.895366  [11204/36309]\n",
      "loss: 0.472378  [11604/36309]\n",
      "loss: 0.960278  [12004/36309]\n",
      "loss: 0.201958  [12404/36309]\n",
      "loss: 0.668404  [12804/36309]\n",
      "loss: 0.643448  [13204/36309]\n",
      "loss: 0.082102  [13604/36309]\n",
      "loss: 0.027751  [14004/36309]\n",
      "loss: 0.103512  [14404/36309]\n",
      "loss: 0.011820  [14804/36309]\n",
      "loss: 0.052309  [15204/36309]\n",
      "loss: 0.106965  [15604/36309]\n",
      "loss: 0.022489  [16004/36309]\n",
      "loss: 0.183845  [16404/36309]\n",
      "loss: 0.172866  [16804/36309]\n",
      "loss: 0.492220  [17204/36309]\n",
      "loss: 0.479127  [17604/36309]\n",
      "loss: 0.029527  [18004/36309]\n",
      "loss: 1.198987  [18404/36309]\n",
      "loss: 0.027225  [18804/36309]\n",
      "loss: 0.155329  [19204/36309]\n",
      "loss: 0.032953  [19604/36309]\n",
      "loss: 0.012828  [20004/36309]\n",
      "loss: 0.990984  [20404/36309]\n",
      "loss: 0.260264  [20804/36309]\n",
      "loss: 0.129393  [21204/36309]\n",
      "loss: 0.181586  [21604/36309]\n",
      "loss: 0.015638  [22004/36309]\n",
      "loss: 0.706946  [22404/36309]\n",
      "loss: 0.126671  [22804/36309]\n",
      "loss: 0.221100  [23204/36309]\n",
      "loss: 0.539307  [23604/36309]\n",
      "loss: 0.951857  [24004/36309]\n",
      "loss: 0.129454  [24404/36309]\n",
      "loss: 0.960234  [24804/36309]\n",
      "loss: 1.190892  [25204/36309]\n",
      "loss: 0.085359  [25604/36309]\n",
      "loss: 0.064175  [26004/36309]\n",
      "loss: 0.701804  [26404/36309]\n",
      "loss: 0.144721  [26804/36309]\n",
      "loss: 1.389916  [27204/36309]\n",
      "loss: 0.072584  [27604/36309]\n",
      "loss: 0.073017  [28004/36309]\n",
      "loss: 0.341075  [28404/36309]\n",
      "loss: 0.289228  [28804/36309]\n",
      "loss: 0.442986  [29204/36309]\n",
      "loss: 0.092468  [29604/36309]\n",
      "loss: 0.409392  [30004/36309]\n",
      "loss: 0.816795  [30404/36309]\n",
      "loss: 0.492610  [30804/36309]\n",
      "loss: 0.492107  [31204/36309]\n",
      "loss: 0.143680  [31604/36309]\n",
      "loss: 0.567101  [32004/36309]\n",
      "loss: 1.387699  [32404/36309]\n",
      "loss: 0.144468  [32804/36309]\n",
      "loss: 0.699193  [33204/36309]\n",
      "loss: 0.065574  [33604/36309]\n",
      "loss: 0.774113  [34004/36309]\n",
      "loss: 0.098838  [34404/36309]\n",
      "loss: 2.227757  [34804/36309]\n",
      "loss: 0.107937  [35204/36309]\n",
      "loss: 0.167926  [35604/36309]\n",
      "loss: 0.053276  [36004/36309]\n",
      "Test Error: \n",
      " Accuracy: 82.0%, Avg loss: 0.621269 \n",
      "\n",
      "Epoch 5\n",
      "-------------------------------\n",
      "loss: 0.776811  [    4/36309]\n",
      "loss: 1.005687  [  404/36309]\n",
      "loss: 0.193573  [  804/36309]\n",
      "loss: 0.341546  [ 1204/36309]\n",
      "loss: 1.637433  [ 1604/36309]\n",
      "loss: 2.023473  [ 2004/36309]\n",
      "loss: 1.012360  [ 2404/36309]\n",
      "loss: 0.795458  [ 2804/36309]\n",
      "loss: 1.409234  [ 3204/36309]\n",
      "loss: 0.056304  [ 3604/36309]\n",
      "loss: 0.141184  [ 4004/36309]\n",
      "loss: 1.033206  [ 4404/36309]\n",
      "loss: 1.232406  [ 4804/36309]\n",
      "loss: 0.979780  [ 5204/36309]\n",
      "loss: 0.077518  [ 5604/36309]\n",
      "loss: 0.264572  [ 6004/36309]\n",
      "loss: 2.366085  [ 6404/36309]\n",
      "loss: 3.162596  [ 6804/36309]\n",
      "loss: 0.017965  [ 7204/36309]\n",
      "loss: 0.676616  [ 7604/36309]\n",
      "loss: 1.548173  [ 8004/36309]\n",
      "loss: 0.033072  [ 8404/36309]\n",
      "loss: 0.109173  [ 8804/36309]\n",
      "loss: 0.051879  [ 9204/36309]\n",
      "loss: 1.507477  [ 9604/36309]\n",
      "loss: 0.050072  [10004/36309]\n",
      "loss: 0.290835  [10404/36309]\n",
      "loss: 0.019726  [10804/36309]\n",
      "loss: 0.008993  [11204/36309]\n",
      "loss: 0.417849  [11604/36309]\n",
      "loss: 1.528921  [12004/36309]\n",
      "loss: 2.105105  [12404/36309]\n",
      "loss: 0.100665  [12804/36309]\n",
      "loss: 1.279001  [13204/36309]\n",
      "loss: 0.314666  [13604/36309]\n",
      "loss: 1.994447  [14004/36309]\n",
      "loss: 0.584193  [14404/36309]\n",
      "loss: 1.802641  [14804/36309]\n",
      "loss: 0.131997  [15204/36309]\n",
      "loss: 0.383733  [15604/36309]\n",
      "loss: 1.403608  [16004/36309]\n",
      "loss: 1.101223  [16404/36309]\n",
      "loss: 0.024010  [16804/36309]\n",
      "loss: 0.781434  [17204/36309]\n",
      "loss: 0.103810  [17604/36309]\n",
      "loss: 0.524144  [18004/36309]\n",
      "loss: 0.509123  [18404/36309]\n",
      "loss: 1.966059  [18804/36309]\n",
      "loss: 0.533129  [19204/36309]\n",
      "loss: 1.663349  [19604/36309]\n",
      "loss: 0.059476  [20004/36309]\n",
      "loss: 0.236001  [20404/36309]\n",
      "loss: 0.434008  [20804/36309]\n",
      "loss: 0.233899  [21204/36309]\n",
      "loss: 0.302890  [21604/36309]\n",
      "loss: 0.097527  [22004/36309]\n",
      "loss: 0.866278  [22404/36309]\n",
      "loss: 0.091174  [22804/36309]\n",
      "loss: 0.315342  [23204/36309]\n",
      "loss: 0.846593  [23604/36309]\n",
      "loss: 0.252114  [24004/36309]\n",
      "loss: 0.889190  [24404/36309]\n",
      "loss: 1.170848  [24804/36309]\n",
      "loss: 0.021319  [25204/36309]\n",
      "loss: 0.438580  [25604/36309]\n",
      "loss: 0.228600  [26004/36309]\n",
      "loss: 0.682194  [26404/36309]\n",
      "loss: 0.112697  [26804/36309]\n",
      "loss: 0.971127  [27204/36309]\n",
      "loss: 0.016463  [27604/36309]\n",
      "loss: 0.058599  [28004/36309]\n",
      "loss: 0.447905  [28404/36309]\n",
      "loss: 0.182797  [28804/36309]\n",
      "loss: 1.045609  [29204/36309]\n",
      "loss: 1.810654  [29604/36309]\n",
      "loss: 0.240534  [30004/36309]\n",
      "loss: 0.329038  [30404/36309]\n",
      "loss: 0.014438  [30804/36309]\n",
      "loss: 0.199692  [31204/36309]\n",
      "loss: 0.974749  [31604/36309]\n",
      "loss: 0.169534  [32004/36309]\n",
      "loss: 0.034812  [32404/36309]\n",
      "loss: 0.225778  [32804/36309]\n",
      "loss: 1.122975  [33204/36309]\n",
      "loss: 0.685549  [33604/36309]\n",
      "loss: 1.256992  [34004/36309]\n",
      "loss: 0.827743  [34404/36309]\n",
      "loss: 0.674379  [34804/36309]\n",
      "loss: 0.066603  [35204/36309]\n",
      "loss: 0.117752  [35604/36309]\n",
      "loss: 0.339167  [36004/36309]\n",
      "Test Error: \n",
      " Accuracy: 83.0%, Avg loss: 0.576326 \n",
      "\n",
      "Epoch 6\n",
      "-------------------------------\n",
      "loss: 0.076593  [    4/36309]\n",
      "loss: 0.056660  [  404/36309]\n",
      "loss: 1.050848  [  804/36309]\n",
      "loss: 0.060785  [ 1204/36309]\n",
      "loss: 0.051279  [ 1604/36309]\n",
      "loss: 1.040122  [ 2004/36309]\n",
      "loss: 0.053177  [ 2404/36309]\n",
      "loss: 1.287589  [ 2804/36309]\n",
      "loss: 0.344975  [ 3204/36309]\n",
      "loss: 0.161421  [ 3604/36309]\n",
      "loss: 0.663441  [ 4004/36309]\n",
      "loss: 0.448262  [ 4404/36309]\n",
      "loss: 0.077341  [ 4804/36309]\n",
      "loss: 1.747904  [ 5204/36309]\n",
      "loss: 0.193608  [ 5604/36309]\n",
      "loss: 0.205110  [ 6004/36309]\n",
      "loss: 0.007528  [ 6404/36309]\n",
      "loss: 0.051101  [ 6804/36309]\n",
      "loss: 0.328339  [ 7204/36309]\n",
      "loss: 0.127810  [ 7604/36309]\n",
      "loss: 0.355326  [ 8004/36309]\n",
      "loss: 0.163861  [ 8404/36309]\n",
      "loss: 0.113692  [ 8804/36309]\n",
      "loss: 1.541568  [ 9204/36309]\n",
      "loss: 0.879400  [ 9604/36309]\n",
      "loss: 1.147504  [10004/36309]\n",
      "loss: 2.455026  [10404/36309]\n",
      "loss: 0.187409  [10804/36309]\n",
      "loss: 0.057221  [11204/36309]\n",
      "loss: 0.103387  [11604/36309]\n",
      "loss: 0.467725  [12004/36309]\n",
      "loss: 0.082296  [12404/36309]\n",
      "loss: 0.744759  [12804/36309]\n",
      "loss: 0.357492  [13204/36309]\n",
      "loss: 0.010030  [13604/36309]\n",
      "loss: 0.049003  [14004/36309]\n",
      "loss: 1.432065  [14404/36309]\n",
      "loss: 0.102913  [14804/36309]\n",
      "loss: 0.222520  [15204/36309]\n",
      "loss: 0.518643  [15604/36309]\n",
      "loss: 0.409128  [16004/36309]\n",
      "loss: 0.247457  [16404/36309]\n",
      "loss: 0.030260  [16804/36309]\n",
      "loss: 1.628350  [17204/36309]\n",
      "loss: 0.125252  [17604/36309]\n",
      "loss: 0.216451  [18004/36309]\n",
      "loss: 0.918161  [18404/36309]\n",
      "loss: 0.032006  [18804/36309]\n",
      "loss: 0.124376  [19204/36309]\n",
      "loss: 0.926699  [19604/36309]\n",
      "loss: 0.008369  [20004/36309]\n",
      "loss: 0.110181  [20404/36309]\n",
      "loss: 0.592737  [20804/36309]\n",
      "loss: 0.045372  [21204/36309]\n",
      "loss: 0.598510  [21604/36309]\n",
      "loss: 1.634331  [22004/36309]\n",
      "loss: 0.514968  [22404/36309]\n",
      "loss: 0.090299  [22804/36309]\n",
      "loss: 0.051840  [23204/36309]\n",
      "loss: 0.120665  [23604/36309]\n",
      "loss: 0.089900  [24004/36309]\n",
      "loss: 1.572144  [24404/36309]\n",
      "loss: 0.116143  [24804/36309]\n",
      "loss: 0.411711  [25204/36309]\n",
      "loss: 0.134271  [25604/36309]\n",
      "loss: 1.125664  [26004/36309]\n",
      "loss: 1.922444  [26404/36309]\n",
      "loss: 0.517322  [26804/36309]\n",
      "loss: 0.693351  [27204/36309]\n",
      "loss: 0.116852  [27604/36309]\n",
      "loss: 0.521642  [28004/36309]\n",
      "loss: 0.101800  [28404/36309]\n",
      "loss: 1.150825  [28804/36309]\n",
      "loss: 0.393306  [29204/36309]\n",
      "loss: 0.031723  [29604/36309]\n"
     ]
    },
    {
     "name": "stdout",
     "output_type": "stream",
     "text": [
      "loss: 0.060551  [30004/36309]\n",
      "loss: 0.008964  [30404/36309]\n",
      "loss: 0.175163  [30804/36309]\n",
      "loss: 0.892608  [31204/36309]\n",
      "loss: 0.531731  [31604/36309]\n",
      "loss: 2.120584  [32004/36309]\n",
      "loss: 0.159748  [32404/36309]\n",
      "loss: 3.437510  [32804/36309]\n",
      "loss: 0.426585  [33204/36309]\n",
      "loss: 0.032216  [33604/36309]\n",
      "loss: 0.036012  [34004/36309]\n",
      "loss: 1.075087  [34404/36309]\n",
      "loss: 1.052477  [34804/36309]\n",
      "loss: 0.441463  [35204/36309]\n",
      "loss: 1.874993  [35604/36309]\n",
      "loss: 0.524499  [36004/36309]\n",
      "Test Error: \n",
      " Accuracy: 84.2%, Avg loss: 0.546720 \n",
      "\n",
      "Epoch 7\n",
      "-------------------------------\n",
      "loss: 0.118445  [    4/36309]\n",
      "loss: 0.429289  [  404/36309]\n",
      "loss: 0.553313  [  804/36309]\n",
      "loss: 1.410858  [ 1204/36309]\n",
      "loss: 1.034976  [ 1604/36309]\n",
      "loss: 0.743228  [ 2004/36309]\n",
      "loss: 0.186012  [ 2404/36309]\n",
      "loss: 1.440225  [ 2804/36309]\n",
      "loss: 0.225403  [ 3204/36309]\n",
      "loss: 2.049175  [ 3604/36309]\n",
      "loss: 0.406252  [ 4004/36309]\n",
      "loss: 0.099642  [ 4404/36309]\n",
      "loss: 0.037781  [ 4804/36309]\n",
      "loss: 0.011444  [ 5204/36309]\n",
      "loss: 0.111778  [ 5604/36309]\n",
      "loss: 0.020820  [ 6004/36309]\n",
      "loss: 0.242957  [ 6404/36309]\n",
      "loss: 0.063824  [ 6804/36309]\n",
      "loss: 0.022824  [ 7204/36309]\n",
      "loss: 0.058269  [ 7604/36309]\n",
      "loss: 0.299156  [ 8004/36309]\n",
      "loss: 0.073797  [ 8404/36309]\n",
      "loss: 0.615703  [ 8804/36309]\n",
      "loss: 1.164361  [ 9204/36309]\n",
      "loss: 0.073572  [ 9604/36309]\n",
      "loss: 0.332824  [10004/36309]\n",
      "loss: 1.428606  [10404/36309]\n",
      "loss: 0.431140  [10804/36309]\n",
      "loss: 0.819125  [11204/36309]\n",
      "loss: 0.255046  [11604/36309]\n",
      "loss: 0.744313  [12004/36309]\n",
      "loss: 0.044417  [12404/36309]\n",
      "loss: 0.006059  [12804/36309]\n",
      "loss: 0.372870  [13204/36309]\n",
      "loss: 0.945510  [13604/36309]\n",
      "loss: 0.271753  [14004/36309]\n",
      "loss: 0.503092  [14404/36309]\n",
      "loss: 0.283993  [14804/36309]\n",
      "loss: 0.411789  [15204/36309]\n",
      "loss: 0.302207  [15604/36309]\n",
      "loss: 0.463582  [16004/36309]\n",
      "loss: 0.072359  [16404/36309]\n",
      "loss: 0.230315  [16804/36309]\n",
      "loss: 0.147902  [17204/36309]\n",
      "loss: 0.070083  [17604/36309]\n",
      "loss: 0.029072  [18004/36309]\n",
      "loss: 0.223148  [18404/36309]\n",
      "loss: 2.337766  [18804/36309]\n",
      "loss: 0.877032  [19204/36309]\n",
      "loss: 0.562669  [19604/36309]\n",
      "loss: 0.205888  [20004/36309]\n",
      "loss: 0.955714  [20404/36309]\n",
      "loss: 0.838764  [20804/36309]\n",
      "loss: 0.270675  [21204/36309]\n",
      "loss: 0.988839  [21604/36309]\n",
      "loss: 0.237640  [22004/36309]\n",
      "loss: 1.653934  [22404/36309]\n",
      "loss: 0.992671  [22804/36309]\n",
      "loss: 0.331332  [23204/36309]\n",
      "loss: 0.140764  [23604/36309]\n",
      "loss: 0.093181  [24004/36309]\n",
      "loss: 0.094697  [24404/36309]\n",
      "loss: 0.962034  [24804/36309]\n",
      "loss: 1.866321  [25204/36309]\n",
      "loss: 0.336012  [25604/36309]\n",
      "loss: 0.614007  [26004/36309]\n",
      "loss: 0.461895  [26404/36309]\n",
      "loss: 0.926061  [26804/36309]\n",
      "loss: 0.007097  [27204/36309]\n",
      "loss: 0.806168  [27604/36309]\n",
      "loss: 0.188522  [28004/36309]\n",
      "loss: 0.227618  [28404/36309]\n",
      "loss: 1.097083  [28804/36309]\n",
      "loss: 0.346143  [29204/36309]\n",
      "loss: 0.066889  [29604/36309]\n",
      "loss: 0.059101  [30004/36309]\n",
      "loss: 0.288010  [30404/36309]\n",
      "loss: 0.198359  [30804/36309]\n",
      "loss: 0.032308  [31204/36309]\n",
      "loss: 0.144827  [31604/36309]\n",
      "loss: 0.956023  [32004/36309]\n",
      "loss: 0.044761  [32404/36309]\n",
      "loss: 2.303153  [32804/36309]\n",
      "loss: 2.572281  [33204/36309]\n",
      "loss: 0.004717  [33604/36309]\n",
      "loss: 0.542625  [34004/36309]\n",
      "loss: 0.026238  [34404/36309]\n",
      "loss: 0.124926  [34804/36309]\n",
      "loss: 0.179240  [35204/36309]\n",
      "loss: 0.380409  [35604/36309]\n",
      "loss: 0.274261  [36004/36309]\n",
      "Test Error: \n",
      " Accuracy: 84.0%, Avg loss: 0.537583 \n",
      "\n",
      "Epoch 8\n",
      "-------------------------------\n",
      "loss: 0.093706  [    4/36309]\n",
      "loss: 0.139800  [  404/36309]\n",
      "loss: 1.326220  [  804/36309]\n",
      "loss: 0.245281  [ 1204/36309]\n",
      "loss: 0.955752  [ 1604/36309]\n",
      "loss: 0.435669  [ 2004/36309]\n",
      "loss: 1.262274  [ 2404/36309]\n",
      "loss: 0.233806  [ 2804/36309]\n",
      "loss: 0.912995  [ 3204/36309]\n",
      "loss: 0.149533  [ 3604/36309]\n",
      "loss: 0.490755  [ 4004/36309]\n",
      "loss: 0.103382  [ 4404/36309]\n",
      "loss: 0.902529  [ 4804/36309]\n",
      "loss: 1.106627  [ 5204/36309]\n",
      "loss: 0.418881  [ 5604/36309]\n",
      "loss: 0.271600  [ 6004/36309]\n",
      "loss: 1.398451  [ 6404/36309]\n",
      "loss: 0.060277  [ 6804/36309]\n",
      "loss: 0.056825  [ 7204/36309]\n",
      "loss: 1.492016  [ 7604/36309]\n",
      "loss: 0.266923  [ 8004/36309]\n",
      "loss: 0.157025  [ 8404/36309]\n",
      "loss: 0.663122  [ 8804/36309]\n",
      "loss: 1.781157  [ 9204/36309]\n",
      "loss: 1.034641  [ 9604/36309]\n",
      "loss: 0.059253  [10004/36309]\n",
      "loss: 0.944277  [10404/36309]\n",
      "loss: 1.293324  [10804/36309]\n",
      "loss: 0.037121  [11204/36309]\n",
      "loss: 0.181073  [11604/36309]\n",
      "loss: 0.764382  [12004/36309]\n",
      "loss: 0.258202  [12404/36309]\n",
      "loss: 1.615310  [12804/36309]\n",
      "loss: 0.022953  [13204/36309]\n",
      "loss: 0.487022  [13604/36309]\n",
      "loss: 0.031713  [14004/36309]\n",
      "loss: 0.171989  [14404/36309]\n",
      "loss: 0.562261  [14804/36309]\n",
      "loss: 0.239233  [15204/36309]\n",
      "loss: 0.233975  [15604/36309]\n",
      "loss: 0.247775  [16004/36309]\n",
      "loss: 0.753163  [16404/36309]\n",
      "loss: 0.092423  [16804/36309]\n",
      "loss: 0.189266  [17204/36309]\n",
      "loss: 0.025541  [17604/36309]\n",
      "loss: 0.290736  [18004/36309]\n",
      "loss: 0.028711  [18404/36309]\n",
      "loss: 0.108893  [18804/36309]\n",
      "loss: 0.407244  [19204/36309]\n",
      "loss: 0.329632  [19604/36309]\n",
      "loss: 0.007555  [20004/36309]\n",
      "loss: 0.015455  [20404/36309]\n",
      "loss: 0.043769  [20804/36309]\n",
      "loss: 0.794812  [21204/36309]\n",
      "loss: 0.045603  [21604/36309]\n",
      "loss: 0.539954  [22004/36309]\n",
      "loss: 0.478739  [22404/36309]\n",
      "loss: 0.663838  [22804/36309]\n",
      "loss: 1.425839  [23204/36309]\n",
      "loss: 0.355458  [23604/36309]\n",
      "loss: 0.156412  [24004/36309]\n",
      "loss: 1.043200  [24404/36309]\n",
      "loss: 0.546810  [24804/36309]\n",
      "loss: 0.056065  [25204/36309]\n",
      "loss: 0.226086  [25604/36309]\n",
      "loss: 0.235804  [26004/36309]\n",
      "loss: 0.146397  [26404/36309]\n",
      "loss: 0.418855  [26804/36309]\n",
      "loss: 0.269026  [27204/36309]\n",
      "loss: 0.157368  [27604/36309]\n",
      "loss: 0.910148  [28004/36309]\n",
      "loss: 0.656156  [28404/36309]\n",
      "loss: 1.048204  [28804/36309]\n",
      "loss: 1.784964  [29204/36309]\n",
      "loss: 0.388927  [29604/36309]\n",
      "loss: 0.113703  [30004/36309]\n",
      "loss: 0.208615  [30404/36309]\n",
      "loss: 0.033959  [30804/36309]\n",
      "loss: 0.083549  [31204/36309]\n",
      "loss: 1.185591  [31604/36309]\n",
      "loss: 0.062092  [32004/36309]\n",
      "loss: 0.218002  [32404/36309]\n",
      "loss: 0.511481  [32804/36309]\n",
      "loss: 0.144551  [33204/36309]\n",
      "loss: 0.441653  [33604/36309]\n",
      "loss: 0.123984  [34004/36309]\n",
      "loss: 1.176374  [34404/36309]\n",
      "loss: 0.735255  [34804/36309]\n",
      "loss: 0.021361  [35204/36309]\n",
      "loss: 0.107909  [35604/36309]\n",
      "loss: 0.447881  [36004/36309]\n",
      "Test Error: \n",
      " Accuracy: 84.4%, Avg loss: 0.526451 \n",
      "\n",
      "Epoch 9\n",
      "-------------------------------\n",
      "loss: 2.427604  [    4/36309]\n",
      "loss: 0.347987  [  404/36309]\n",
      "loss: 0.213386  [  804/36309]\n",
      "loss: 0.082146  [ 1204/36309]\n",
      "loss: 0.327502  [ 1604/36309]\n",
      "loss: 0.312798  [ 2004/36309]\n",
      "loss: 0.553642  [ 2404/36309]\n",
      "loss: 0.027494  [ 2804/36309]\n",
      "loss: 0.893214  [ 3204/36309]\n",
      "loss: 2.001550  [ 3604/36309]\n",
      "loss: 0.062392  [ 4004/36309]\n",
      "loss: 1.224438  [ 4404/36309]\n",
      "loss: 1.396265  [ 4804/36309]\n",
      "loss: 0.228317  [ 5204/36309]\n",
      "loss: 0.906477  [ 5604/36309]\n",
      "loss: 0.173638  [ 6004/36309]\n",
      "loss: 0.853134  [ 6404/36309]\n",
      "loss: 0.164058  [ 6804/36309]\n",
      "loss: 0.020337  [ 7204/36309]\n",
      "loss: 0.232098  [ 7604/36309]\n",
      "loss: 0.176254  [ 8004/36309]\n",
      "loss: 0.072418  [ 8404/36309]\n",
      "loss: 0.856071  [ 8804/36309]\n",
      "loss: 1.636313  [ 9204/36309]\n",
      "loss: 0.631058  [ 9604/36309]\n",
      "loss: 0.461488  [10004/36309]\n",
      "loss: 0.152585  [10404/36309]\n",
      "loss: 0.204337  [10804/36309]\n",
      "loss: 0.562791  [11204/36309]\n",
      "loss: 0.033439  [11604/36309]\n",
      "loss: 0.034813  [12004/36309]\n",
      "loss: 0.004882  [12404/36309]\n",
      "loss: 0.453925  [12804/36309]\n",
      "loss: 0.609866  [13204/36309]\n",
      "loss: 0.870795  [13604/36309]\n",
      "loss: 0.089706  [14004/36309]\n",
      "loss: 0.429759  [14404/36309]\n",
      "loss: 0.005478  [14804/36309]\n",
      "loss: 0.007116  [15204/36309]\n",
      "loss: 0.476274  [15604/36309]\n",
      "loss: 0.279437  [16004/36309]\n",
      "loss: 0.139032  [16404/36309]\n",
      "loss: 1.137975  [16804/36309]\n",
      "loss: 0.104031  [17204/36309]\n",
      "loss: 0.344894  [17604/36309]\n",
      "loss: 0.441188  [18004/36309]\n",
      "loss: 0.936357  [18404/36309]\n",
      "loss: 0.856421  [18804/36309]\n",
      "loss: 0.222983  [19204/36309]\n",
      "loss: 1.275290  [19604/36309]\n",
      "loss: 1.430849  [20004/36309]\n",
      "loss: 1.434455  [20404/36309]\n",
      "loss: 2.357524  [20804/36309]\n",
      "loss: 0.309915  [21204/36309]\n",
      "loss: 0.923898  [21604/36309]\n",
      "loss: 1.250889  [22004/36309]\n",
      "loss: 0.175362  [22404/36309]\n",
      "loss: 0.149922  [22804/36309]\n",
      "loss: 1.787372  [23204/36309]\n",
      "loss: 0.140728  [23604/36309]\n",
      "loss: 0.072282  [24004/36309]\n",
      "loss: 0.462186  [24404/36309]\n",
      "loss: 0.094194  [24804/36309]\n",
      "loss: 0.059133  [25204/36309]\n",
      "loss: 0.194284  [25604/36309]\n",
      "loss: 0.164289  [26004/36309]\n"
     ]
    },
    {
     "name": "stdout",
     "output_type": "stream",
     "text": [
      "loss: 0.325917  [26404/36309]\n",
      "loss: 0.020734  [26804/36309]\n",
      "loss: 0.079337  [27204/36309]\n",
      "loss: 1.403017  [27604/36309]\n",
      "loss: 1.072142  [28004/36309]\n",
      "loss: 0.016631  [28404/36309]\n",
      "loss: 0.073036  [28804/36309]\n",
      "loss: 0.008841  [29204/36309]\n",
      "loss: 0.325980  [29604/36309]\n",
      "loss: 0.066942  [30004/36309]\n",
      "loss: 0.880987  [30404/36309]\n",
      "loss: 1.006251  [30804/36309]\n",
      "loss: 0.131955  [31204/36309]\n",
      "loss: 0.035624  [31604/36309]\n",
      "loss: 0.071862  [32004/36309]\n",
      "loss: 1.372985  [32404/36309]\n",
      "loss: 0.368548  [32804/36309]\n",
      "loss: 0.602802  [33204/36309]\n",
      "loss: 1.217362  [33604/36309]\n",
      "loss: 0.077577  [34004/36309]\n",
      "loss: 0.167329  [34404/36309]\n",
      "loss: 2.406399  [34804/36309]\n",
      "loss: 0.092512  [35204/36309]\n",
      "loss: 0.930925  [35604/36309]\n",
      "loss: 0.104261  [36004/36309]\n",
      "Test Error: \n",
      " Accuracy: 84.4%, Avg loss: 0.525279 \n",
      "\n",
      "Epoch 10\n",
      "-------------------------------\n",
      "loss: 0.277771  [    4/36309]\n",
      "loss: 0.747002  [  404/36309]\n",
      "loss: 0.748755  [  804/36309]\n",
      "loss: 0.095712  [ 1204/36309]\n",
      "loss: 0.374251  [ 1604/36309]\n",
      "loss: 2.627492  [ 2004/36309]\n",
      "loss: 0.293794  [ 2404/36309]\n",
      "loss: 0.611395  [ 2804/36309]\n",
      "loss: 0.208424  [ 3204/36309]\n",
      "loss: 0.044072  [ 3604/36309]\n",
      "loss: 0.059312  [ 4004/36309]\n",
      "loss: 0.234030  [ 4404/36309]\n",
      "loss: 0.038045  [ 4804/36309]\n",
      "loss: 0.012555  [ 5204/36309]\n",
      "loss: 0.001559  [ 5604/36309]\n",
      "loss: 0.467820  [ 6004/36309]\n",
      "loss: 0.306276  [ 6404/36309]\n",
      "loss: 0.020574  [ 6804/36309]\n",
      "loss: 0.119385  [ 7204/36309]\n",
      "loss: 0.021313  [ 7604/36309]\n",
      "loss: 0.068694  [ 8004/36309]\n",
      "loss: 0.464528  [ 8404/36309]\n",
      "loss: 0.041821  [ 8804/36309]\n",
      "loss: 0.319217  [ 9204/36309]\n",
      "loss: 1.273664  [ 9604/36309]\n",
      "loss: 0.757013  [10004/36309]\n",
      "loss: 0.076511  [10404/36309]\n",
      "loss: 0.412710  [10804/36309]\n",
      "loss: 0.965912  [11204/36309]\n",
      "loss: 0.291074  [11604/36309]\n",
      "loss: 0.496077  [12004/36309]\n",
      "loss: 0.828766  [12404/36309]\n",
      "loss: 0.058949  [12804/36309]\n",
      "loss: 0.025953  [13204/36309]\n",
      "loss: 0.127052  [13604/36309]\n",
      "loss: 0.807017  [14004/36309]\n",
      "loss: 2.351870  [14404/36309]\n",
      "loss: 0.032119  [14804/36309]\n",
      "loss: 0.272578  [15204/36309]\n",
      "loss: 1.395844  [15604/36309]\n",
      "loss: 0.069566  [16004/36309]\n",
      "loss: 0.655061  [16404/36309]\n",
      "loss: 0.355292  [16804/36309]\n",
      "loss: 1.078171  [17204/36309]\n",
      "loss: 0.055361  [17604/36309]\n",
      "loss: 0.103370  [18004/36309]\n",
      "loss: 0.587651  [18404/36309]\n",
      "loss: 0.033066  [18804/36309]\n",
      "loss: 0.079855  [19204/36309]\n",
      "loss: 0.228913  [19604/36309]\n",
      "loss: 0.318361  [20004/36309]\n",
      "loss: 0.856798  [20404/36309]\n",
      "loss: 0.018765  [20804/36309]\n",
      "loss: 0.556626  [21204/36309]\n",
      "loss: 0.182398  [21604/36309]\n",
      "loss: 0.012110  [22004/36309]\n",
      "loss: 0.498581  [22404/36309]\n",
      "loss: 0.173861  [22804/36309]\n",
      "loss: 0.099327  [23204/36309]\n",
      "loss: 1.278363  [23604/36309]\n",
      "loss: 0.067457  [24004/36309]\n",
      "loss: 0.255925  [24404/36309]\n",
      "loss: 0.850289  [24804/36309]\n",
      "loss: 0.403590  [25204/36309]\n",
      "loss: 0.629018  [25604/36309]\n",
      "loss: 0.232526  [26004/36309]\n",
      "loss: 0.821272  [26404/36309]\n",
      "loss: 0.127395  [26804/36309]\n",
      "loss: 0.020029  [27204/36309]\n",
      "loss: 0.038054  [27604/36309]\n",
      "loss: 0.364273  [28004/36309]\n",
      "loss: 0.032133  [28404/36309]\n",
      "loss: 0.369119  [28804/36309]\n",
      "loss: 1.135977  [29204/36309]\n",
      "loss: 0.125550  [29604/36309]\n",
      "loss: 0.184575  [30004/36309]\n",
      "loss: 0.044380  [30404/36309]\n",
      "loss: 0.892694  [30804/36309]\n",
      "loss: 0.893235  [31204/36309]\n",
      "loss: 0.875786  [31604/36309]\n",
      "loss: 2.603486  [32004/36309]\n",
      "loss: 0.561224  [32404/36309]\n",
      "loss: 0.826515  [32804/36309]\n",
      "loss: 0.599013  [33204/36309]\n",
      "loss: 0.602965  [33604/36309]\n",
      "loss: 0.217286  [34004/36309]\n",
      "loss: 1.167503  [34404/36309]\n",
      "loss: 0.484878  [34804/36309]\n",
      "loss: 0.796389  [35204/36309]\n",
      "loss: 0.035304  [35604/36309]\n",
      "loss: 0.004957  [36004/36309]\n",
      "Test Error: \n",
      " Accuracy: 84.8%, Avg loss: 0.498920 \n",
      "\n",
      "Done!\n"
     ]
    }
   ],
   "source": [
    "learning_rate = 0.002\n",
    "\n",
    "loss_fn = nn.CrossEntropyLoss()\n",
    "optimizer = torch.optim.SGD(model.parameters(), lr=learning_rate)\n",
    "\n",
    "epochs = 50\n",
    "for t in range(epochs):\n",
    "    print(f\"Epoch {t+1}\\n-------------------------------\")\n",
    "    train_loop(training_loader, model, loss_fn, optimizer)\n",
    "    test_loop(testing_loader, model, loss_fn)\n",
    "print(\"Done!\")"
   ]
  },
  {
   "cell_type": "markdown",
   "id": "e576cbf7",
   "metadata": {},
   "source": [
    "# Activate"
   ]
  },
  {
   "cell_type": "code",
   "execution_count": 159,
   "id": "ecc35873",
   "metadata": {},
   "outputs": [],
   "source": [
    "#Another training function\n",
    "################################################\n",
    "#                                              #\n",
    "# Only use this if the above code was not used #\n",
    "#                                              #\n",
    "################################################\n",
    "\n",
    "learning_rate = 0.001\n",
    "\n",
    "loss_fn = nn.CrossEntropyLoss()\n",
    "optimizer = torch.optim.SGD(model.parameters(), lr=learning_rate)\n",
    "\n",
    "def train_one_epoch(epoch_index, tb_writer):\n",
    "    running_loss = 0.\n",
    "    last_loss = 0.\n",
    "\n",
    "    # Here, we use enumerate(training_loader) instead of\n",
    "    # iter(training_loader) so that we can track the batch\n",
    "    # index and do some intra-epoch reporting\n",
    "    for i, data in enumerate(training_loader):\n",
    "        # Every data instance is an input + label pair\n",
    "        inputs, labels = data\n",
    "\n",
    "        # Zero your gradients for every batch!\n",
    "        optimizer.zero_grad()\n",
    "\n",
    "        # Make predictions for this batch\n",
    "        outputs = model(inputs)\n",
    "\n",
    "        # Compute the loss and its gradients\n",
    "        loss = loss_fn(outputs, labels)\n",
    "        loss.backward()\n",
    "\n",
    "        # Adjust learning weights\n",
    "        optimizer.step()\n",
    "\n",
    "        # Gather data and report\n",
    "        running_loss += loss.item()\n",
    "        if i % 1000 == 999:\n",
    "            last_loss = running_loss / 1000 # loss per batch\n",
    "            print('  batch {} loss: {}'.format(i + 1, last_loss))\n",
    "            tb_x = epoch_index * len(training_loader) + i + 1\n",
    "            tb_writer.add_scalar('Loss/train', last_loss, tb_x)\n",
    "            running_loss = 0.\n",
    "\n",
    "    return last_loss"
   ]
  },
  {
   "cell_type": "code",
   "execution_count": null,
   "id": "5d580fb9",
   "metadata": {},
   "outputs": [
    {
     "name": "stdout",
     "output_type": "stream",
     "text": [
      "EPOCH 1:\n",
      "  batch 1000 loss: 2.5839830877184866\n",
      "  batch 2000 loss: 1.7871529823243617\n",
      "  batch 3000 loss: 1.4531636323928834\n",
      "  batch 4000 loss: 1.3021278928667306\n",
      "  batch 5000 loss: 1.2031828420236708\n",
      "  batch 6000 loss: 1.111134022027254\n",
      "  batch 7000 loss: 1.0554542797729374\n",
      "  batch 8000 loss: 1.0195580135565252\n",
      "  batch 9000 loss: 0.9499117729663848\n"
     ]
    },
    {
     "name": "stderr",
     "output_type": "stream",
     "text": [
      "100%|██████████████████████████████████████████████████████████████████████████████| 2675/2675 [00:37<00:00, 70.64it/s]\n"
     ]
    },
    {
     "name": "stdout",
     "output_type": "stream",
     "text": [
      "LOSS train 0.9499117729663848 valid 0.6578373908996582\n",
      "EPOCH 2:\n",
      "  batch 1000 loss: 0.8834943842291832\n",
      "  batch 2000 loss: 0.8647885757554322\n",
      "  batch 3000 loss: 0.8492852269094437\n",
      "  batch 4000 loss: 0.8111547605246305\n",
      "  batch 5000 loss: 0.8168802236523479\n",
      "  batch 6000 loss: 0.7791118826987222\n",
      "  batch 7000 loss: 0.7930316044359934\n",
      "  batch 8000 loss: 0.7758860235149041\n",
      "  batch 9000 loss: 0.7661579646039754\n"
     ]
    },
    {
     "name": "stderr",
     "output_type": "stream",
     "text": [
      " 76%|██████████████████████████████████████████████████████████▉                   | 2023/2675 [00:28<00:09, 68.97it/s]"
     ]
    }
   ],
   "source": [
    "from datetime import datetime\n",
    "from torch.utils.tensorboard import SummaryWriter\n",
    "from tqdm import tqdm\n",
    "\n",
    "timestamp = datetime.now().strftime('%Y%m%d_%H%M%S')\n",
    "writer = SummaryWriter('runs/letter_recognition_new_{}'.format(timestamp))\n",
    "epoch_number = 0\n",
    "\n",
    "EPOCHS = 50\n",
    "\n",
    "best_vloss = 1_000_000.\n",
    "\n",
    "for epoch in range(EPOCHS):\n",
    "    print('EPOCH {}:'.format(epoch_number + 1))\n",
    "\n",
    "    # Make sure gradient tracking is on, and do a pass over the data\n",
    "    model.train(True)\n",
    "    avg_loss = train_one_epoch(epoch_number, writer)\n",
    "\n",
    "\n",
    "    running_vloss = 0.0\n",
    "    # Set the model to evaluation mode, disabling dropout and using population\n",
    "    # statistics for batch normalization.\n",
    "    model.eval()\n",
    "\n",
    "    # Disable gradient computation and reduce memory consumption.\n",
    "    with torch.no_grad():\n",
    "        for i, vdata in tqdm(enumerate(validation_loader), total=len(validation_loader)):\n",
    "            vinputs, vlabels = vdata\n",
    "            voutputs = model(vinputs)\n",
    "            vloss = loss_fn(voutputs, vlabels)\n",
    "            running_vloss += vloss\n",
    "\n",
    "    avg_vloss = running_vloss / (i + 1)\n",
    "    print('LOSS train {} valid {}'.format(avg_loss, avg_vloss))\n",
    "\n",
    "    # Log the running loss averaged per batch\n",
    "    # for both training and validation\n",
    "    writer.add_scalars('Training vs. Validation Loss',\n",
    "                    { 'Training' : avg_loss, 'Validation' : avg_vloss },\n",
    "                    epoch_number + 1)\n",
    "    writer.flush()\n",
    "\n",
    "    # Track best performance, and save the model's state\n",
    "    if avg_vloss < best_vloss:\n",
    "        best_vloss = avg_vloss\n",
    "        model_path = 'new_model_{}_{}.pth'.format(timestamp, epoch_number)\n",
    "        torch.save(model, model_path)\n",
    "\n",
    "    epoch_number += 1"
   ]
  },
  {
   "cell_type": "code",
   "execution_count": 73,
   "id": "594522fb",
   "metadata": {},
   "outputs": [
    {
     "name": "stdout",
     "output_type": "stream",
     "text": [
      "Predicted class: tensor([10])\n"
     ]
    },
    {
     "data": {
      "image/png": "[encoded data removed]",
      "text/plain": [
       "<Figure size 640x480 with 1 Axes>"
      ]
     },
     "metadata": {},
     "output_type": "display_data"
    }
   ],
   "source": [
    "from torchvision.io import read_image\n",
    "from torchvision.io import ImageReadMode\n",
    "\n",
    "inp = read_image(\"k.jpg\", mode = ImageReadMode.GRAY)\n",
    "inp = inp.to(torch.float32).reshape((1,1,16,8))\n",
    "\n",
    "inp[inp<=40.] = 1\n",
    "inp[inp>40.] = 0\n",
    "\n",
    "\n",
    "img = inp.squeeze()\n",
    "plt.imshow(img, cmap=\"gray\")\n",
    "\n",
    "pred = model(inp)\n",
    "pred_probab = nn.Softmax(dim=1)(pred)\n",
    "y_pred = pred_probab.argmax(1)\n",
    "print(f\"Predicted class: {y_pred}\")"
   ]
  },
  {
   "cell_type": "code",
   "execution_count": 72,
   "id": "7e6c4049",
   "metadata": {},
   "outputs": [],
   "source": [
    "model = torch.load('model_20240602_210951_30.pth')"
   ]
  },
  {
   "cell_type": "markdown",
   "id": "24595d99",
   "metadata": {},
   "source": [
    "## Module for defisheyeing the image using defisheye"
   ]
  },
  {
   "cell_type": "code",
   "execution_count": 49,
   "id": "745a8c3a",
   "metadata": {},
   "outputs": [],
   "source": [
    "from defisheye import Defisheye"
   ]
  },
  {
   "cell_type": "code",
   "execution_count": 75,
   "id": "4c96de68",
   "metadata": {},
   "outputs": [],
   "source": [
    "dtype = 'linear'\n",
    "format = 'fullframe'\n",
    "fov = 180\n",
    "pfov = 90\n",
    "\n",
    "img = \"fisheye_e.jpg\"\n",
    "#img_out = f\"defisheyed_e{dtype}_{format}_{pfov}_{fov}.jpg\"\n",
    "\n",
    "obj = Defisheye(img, dtype=dtype, format=format, fov=fov, pfov=pfov)\n",
    "\n",
    "# To save image locally \n",
    "#obj.convert(outfile=img_out)\n",
    "\n",
    "# To use the converted image in memory\n",
    "\n",
    "new_image = obj.convert()"
   ]
  },
  {
   "cell_type": "markdown",
   "id": "821e87e7",
   "metadata": {},
   "source": [
    "## Resize scanned image to fit input size"
   ]
  },
  {
   "cell_type": "code",
   "execution_count": 76,
   "id": "f4522b66",
   "metadata": {},
   "outputs": [
    {
     "data": {
      "image/png": "[encoded data removed]",
      "text/plain": [
       "<Figure size 640x480 with 1 Axes>"
      ]
     },
     "metadata": {},
     "output_type": "display_data"
    }
   ],
   "source": [
    "import matplotlib.pyplot as plt\n",
    "\n",
    "img = plt.imshow(new_image)\n",
    "plt.show(img)"
   ]
  },
  {
   "cell_type": "code",
   "execution_count": 77,
   "id": "cd1e17b7",
   "metadata": {},
   "outputs": [],
   "source": [
    "import cv2\n",
    "import numpy as np\n",
    "\n",
    "#img = cv2.imread(new_image)\n",
    "res = cv2.resize(new_image, dsize=(8, 16), interpolation=cv2.INTER_AREA)"
   ]
  },
  {
   "cell_type": "code",
   "execution_count": 78,
   "id": "f908eb32",
   "metadata": {},
   "outputs": [
    {
     "data": {
      "image/png": "[encoded data removed]",
      "text/plain": [
       "<Figure size 640x480 with 1 Axes>"
      ]
     },
     "metadata": {},
     "output_type": "display_data"
    }
   ],
   "source": [
    "img = plt.imshow(res)\n",
    "plt.show(img)"
   ]
  },
  {
   "cell_type": "code",
   "execution_count": 79,
   "id": "91545198",
   "metadata": {},
   "outputs": [],
   "source": [
    "import cv2\n",
    "\n",
    "gray_image = cv2.cvtColor(res, cv2.COLOR_BGR2GRAY) "
   ]
  },
  {
   "cell_type": "code",
   "execution_count": 80,
   "id": "9d175406",
   "metadata": {},
   "outputs": [
    {
     "name": "stdout",
     "output_type": "stream",
     "text": [
      "[[255 255 255 255 255 255 255 255]\n",
      " [255 255 255 255 255 255 255 255]\n",
      " [255 255 255 254 255 255 255 255]\n",
      " [255 255 218 100 101 223 255 255]\n",
      " [255 255 157 254 252 155 255 255]\n",
      " [255 255 178 255 255 164 255 255]\n",
      " [255 255 172 216 126 208 255 255]\n",
      " [255 255 113 151 234 255 255 255]\n",
      " [255 255 171 255 255 255 255 255]\n",
      " [255 255 193 215 255 255 255 255]\n",
      " [255 255 255 133 244 255 255 255]\n",
      " [255 255 255 240 110 117 180 255]\n",
      " [255 255 255 255 255 243 255 255]\n",
      " [255 255 255 255 255 255 255 255]\n",
      " [255 255 255 255 255 255 255 255]\n",
      " [255 255 255 255 255 255 255 255]]\n"
     ]
    },
    {
     "data": {
      "image/png": "[encoded data removed]",
      "text/plain": [
       "<Figure size 640x480 with 1 Axes>"
      ]
     },
     "metadata": {},
     "output_type": "display_data"
    }
   ],
   "source": [
    "plt.imshow(gray_image, cmap=\"gray\")\n",
    "print(gray_image)"
   ]
  },
  {
   "cell_type": "code",
   "execution_count": 81,
   "id": "112ea91d",
   "metadata": {},
   "outputs": [],
   "source": [
    "import torch\n",
    "\n",
    "inp = torch.tensor(gray_image)\n",
    "\n",
    "inp = inp.to(torch.float32).reshape((1,1,16,8))"
   ]
  },
  {
   "cell_type": "code",
   "execution_count": 82,
   "id": "aca0dbc5",
   "metadata": {},
   "outputs": [
    {
     "name": "stdout",
     "output_type": "stream",
     "text": [
      "tensor([[255., 255., 255., 255., 255., 255., 255., 255.],\n",
      "        [255., 255., 255., 255., 255., 255., 255., 255.],\n",
      "        [255., 255., 255., 254., 255., 255., 255., 255.],\n",
      "        [255., 255., 218., 100., 101., 223., 255., 255.],\n",
      "        [255., 255., 157., 254., 252., 155., 255., 255.],\n",
      "        [255., 255., 178., 255., 255., 164., 255., 255.],\n",
      "        [255., 255., 172., 216., 126., 208., 255., 255.],\n",
      "        [255., 255., 113., 151., 234., 255., 255., 255.],\n",
      "        [255., 255., 171., 255., 255., 255., 255., 255.],\n",
      "        [255., 255., 193., 215., 255., 255., 255., 255.],\n",
      "        [255., 255., 255., 133., 244., 255., 255., 255.],\n",
      "        [255., 255., 255., 240., 110., 117., 180., 255.],\n",
      "        [255., 255., 255., 255., 255., 243., 255., 255.],\n",
      "        [255., 255., 255., 255., 255., 255., 255., 255.],\n",
      "        [255., 255., 255., 255., 255., 255., 255., 255.],\n",
      "        [255., 255., 255., 255., 255., 255., 255., 255.]])\n"
     ]
    },
    {
     "data": {
      "image/png": "[encoded data removed]",
      "text/plain": [
       "<Figure size 640x480 with 1 Axes>"
      ]
     },
     "metadata": {},
     "output_type": "display_data"
    }
   ],
   "source": [
    "img = inp.squeeze()\n",
    "plt.imshow(img, cmap=\"gray\")\n",
    "\n",
    "print(img)"
   ]
  },
  {
   "cell_type": "code",
   "execution_count": 83,
   "id": "b81b8b95",
   "metadata": {},
   "outputs": [],
   "source": [
    "inp[inp<255.] = 1\n",
    "inp[inp==255.] = 0"
   ]
  },
  {
   "cell_type": "code",
   "execution_count": 84,
   "id": "84c77343",
   "metadata": {},
   "outputs": [
    {
     "data": {
      "text/plain": [
       "<matplotlib.image.AxesImage at 0x26851afcf50>"
      ]
     },
     "execution_count": 84,
     "metadata": {},
     "output_type": "execute_result"
    },
    {
     "data": {
      "image/png": "[encoded data removed]",
      "text/plain": [
       "<Figure size 640x480 with 1 Axes>"
      ]
     },
     "metadata": {},
     "output_type": "display_data"
    }
   ],
   "source": [
    "img = inp.squeeze()\n",
    "plt.imshow(img, cmap=\"gray\")"
   ]
  },
  {
   "cell_type": "markdown",
   "id": "33cf9360",
   "metadata": {},
   "source": [
    "# Testing"
   ]
  },
  {
   "cell_type": "code",
   "execution_count": 60,
   "id": "aabe8e1c",
   "metadata": {},
   "outputs": [],
   "source": [
    "import torch\n",
    "from torchvision.io import read_image\n",
    "from torchvision.io import ImageReadMode\n",
    "from sklearn import preprocessing\n",
    "import torch.nn.functional as F\n",
    "from torch import nn\n",
    "from torchvision.io import read_image\n",
    "from torch.utils.data import Dataset\n",
    "import pandas as pd\n",
    "from torch.utils.data import DataLoader"
   ]
  },
  {
   "cell_type": "code",
   "execution_count": 61,
   "id": "7f6f3319",
   "metadata": {},
   "outputs": [
    {
     "name": "stdout",
     "output_type": "stream",
     "text": [
      "Using cpu device\n"
     ]
    }
   ],
   "source": [
    "device = (\n",
    "    \"cuda\"\n",
    "    if torch.cuda.is_available()\n",
    "    else \"mps\"\n",
    "    if torch.backends.mps.is_available()\n",
    "    else \"cpu\"\n",
    ")\n",
    "print(f\"Using {device} device\")"
   ]
  },
  {
   "cell_type": "code",
   "execution_count": 62,
   "id": "d31e2e9e",
   "metadata": {},
   "outputs": [],
   "source": [
    "class Model(torch.nn.Module):\n",
    "    def __init__(self):\n",
    "        super(Model, self).__init__()\n",
    "        \n",
    "        self.conv1 = nn.Conv2d(1, 32, 3, padding=1)\n",
    "        self.conv2 = nn.Conv2d(32, 64, 3, padding=1)\n",
    "        \n",
    "        self.fc1 = nn.Linear(512, 26)\n",
    "        \n",
    "    def forward(self, x):\n",
    "        x = F.max_pool2d(F.relu(self.conv1(x)), (2, 2))\n",
    "        x = F.max_pool2d(F.relu(self.conv2(x)), (2, 2))\n",
    "        #print('x_shape:', x.shape)\n",
    "        x = x.view(-1, self.num_flat_features(x))\n",
    "        x = F.dropout(x)\n",
    "        x = F.relu(self.fc1(x))\n",
    "        return x\n",
    "    \n",
    "    def num_flat_features(self, x):\n",
    "        size = x.size()[1:]\n",
    "        num_features = 1\n",
    "        for s in size:\n",
    "            num_features *= s\n",
    "        return num_features\n",
    "    \n",
    "model = Model().to(device)"
   ]
  },
  {
   "cell_type": "code",
   "execution_count": 86,
   "id": "c78a9745",
   "metadata": {},
   "outputs": [
    {
     "name": "stdout",
     "output_type": "stream",
     "text": [
      "Predicted class: p\n"
     ]
    }
   ],
   "source": [
    "pred = model(inp)\n",
    "pred_probab = nn.Softmax(dim=1)(pred)\n",
    "y_pred = pred_probab.argmax(1)\n",
    "print(f\"Predicted class: {chr(y_pred[0]+97)}\")"
   ]
  },
  {
   "cell_type": "code",
   "execution_count": 66,
   "id": "3749fa8e",
   "metadata": {},
   "outputs": [
    {
     "data": {
      "text/plain": [
       "tensor(329)"
      ]
     },
     "execution_count": 66,
     "metadata": {},
     "output_type": "execute_result"
    }
   ],
   "source": [
    "y_pred[0]"
   ]
  },
  {
   "cell_type": "markdown",
   "id": "3a9e1f51",
   "metadata": {},
   "source": [
    "# Testing"
   ]
  },
  {
   "cell_type": "code",
   "execution_count": 150,
   "id": "8bf7d35e",
   "metadata": {},
   "outputs": [
    {
     "name": "stderr",
     "output_type": "stream",
     "text": [
      "  0%|                                                                                           | 0/12 [00:00<?, ?it/s]\n",
      "  0%|                                                                                         | 0/1286 [00:00<?, ?it/s]\u001b[A\n",
      "  0%|                                                                                           | 0/12 [00:00<?, ?it/s]\n"
     ]
    },
    {
     "ename": "RuntimeError",
     "evalue": "mat1 and mat2 shapes cannot be multiplied (4x2048 and 512x512)",
     "output_type": "error",
     "traceback": [
      "\u001b[1;31m---------------------------------------------------------------------------\u001b[0m",
      "\u001b[1;31mRuntimeError\u001b[0m                              Traceback (most recent call last)",
      "Cell \u001b[1;32mIn[150], line 14\u001b[0m\n\u001b[0;32m     12\u001b[0m \u001b[38;5;28;01mfor\u001b[39;00m i, tdata \u001b[38;5;129;01min\u001b[39;00m tqdm(\u001b[38;5;28menumerate\u001b[39m(testing_loader), total\u001b[38;5;241m=\u001b[39m\u001b[38;5;28mlen\u001b[39m(testing_loader)):\n\u001b[0;32m     13\u001b[0m     tinputs, tlabels \u001b[38;5;241m=\u001b[39m tdata\n\u001b[1;32m---> 14\u001b[0m     toutputs \u001b[38;5;241m=\u001b[39m model(tinputs)\n\u001b[0;32m     15\u001b[0m     t_prob \u001b[38;5;241m=\u001b[39m nn\u001b[38;5;241m.\u001b[39mSoftmax(dim\u001b[38;5;241m=\u001b[39m\u001b[38;5;241m1\u001b[39m)(toutputs)\n\u001b[0;32m     16\u001b[0m     t_pred \u001b[38;5;241m=\u001b[39m t_prob\u001b[38;5;241m.\u001b[39margmax(\u001b[38;5;241m1\u001b[39m)\n",
      "File \u001b[1;32mE:\\anaconda3\\envs\\PylonHome\\Lib\\site-packages\\torch\\nn\\modules\\module.py:1501\u001b[0m, in \u001b[0;36mModule._call_impl\u001b[1;34m(self, *args, **kwargs)\u001b[0m\n\u001b[0;32m   1496\u001b[0m \u001b[38;5;66;03m# If we don't have any hooks, we want to skip the rest of the logic in\u001b[39;00m\n\u001b[0;32m   1497\u001b[0m \u001b[38;5;66;03m# this function, and just call forward.\u001b[39;00m\n\u001b[0;32m   1498\u001b[0m \u001b[38;5;28;01mif\u001b[39;00m \u001b[38;5;129;01mnot\u001b[39;00m (\u001b[38;5;28mself\u001b[39m\u001b[38;5;241m.\u001b[39m_backward_hooks \u001b[38;5;129;01mor\u001b[39;00m \u001b[38;5;28mself\u001b[39m\u001b[38;5;241m.\u001b[39m_backward_pre_hooks \u001b[38;5;129;01mor\u001b[39;00m \u001b[38;5;28mself\u001b[39m\u001b[38;5;241m.\u001b[39m_forward_hooks \u001b[38;5;129;01mor\u001b[39;00m \u001b[38;5;28mself\u001b[39m\u001b[38;5;241m.\u001b[39m_forward_pre_hooks\n\u001b[0;32m   1499\u001b[0m         \u001b[38;5;129;01mor\u001b[39;00m _global_backward_pre_hooks \u001b[38;5;129;01mor\u001b[39;00m _global_backward_hooks\n\u001b[0;32m   1500\u001b[0m         \u001b[38;5;129;01mor\u001b[39;00m _global_forward_hooks \u001b[38;5;129;01mor\u001b[39;00m _global_forward_pre_hooks):\n\u001b[1;32m-> 1501\u001b[0m     \u001b[38;5;28;01mreturn\u001b[39;00m forward_call(\u001b[38;5;241m*\u001b[39margs, \u001b[38;5;241m*\u001b[39m\u001b[38;5;241m*\u001b[39mkwargs)\n\u001b[0;32m   1502\u001b[0m \u001b[38;5;66;03m# Do not call functions when jit is used\u001b[39;00m\n\u001b[0;32m   1503\u001b[0m full_backward_hooks, non_full_backward_hooks \u001b[38;5;241m=\u001b[39m [], []\n",
      "Cell \u001b[1;32mIn[149], line 18\u001b[0m, in \u001b[0;36mModel.forward\u001b[1;34m(self, x)\u001b[0m\n\u001b[0;32m     16\u001b[0m x \u001b[38;5;241m=\u001b[39m x\u001b[38;5;241m.\u001b[39mview(\u001b[38;5;241m-\u001b[39m\u001b[38;5;241m1\u001b[39m, \u001b[38;5;28mself\u001b[39m\u001b[38;5;241m.\u001b[39mnum_flat_features(x))\n\u001b[0;32m     17\u001b[0m x \u001b[38;5;241m=\u001b[39m F\u001b[38;5;241m.\u001b[39mdropout(x)\n\u001b[1;32m---> 18\u001b[0m x \u001b[38;5;241m=\u001b[39m F\u001b[38;5;241m.\u001b[39mrelu(\u001b[38;5;28mself\u001b[39m\u001b[38;5;241m.\u001b[39mfc1(x))\n\u001b[0;32m     19\u001b[0m x \u001b[38;5;241m=\u001b[39m \u001b[38;5;28mself\u001b[39m\u001b[38;5;241m.\u001b[39mbatch_norm(x)\n\u001b[0;32m     20\u001b[0m x \u001b[38;5;241m=\u001b[39m F\u001b[38;5;241m.\u001b[39mrelu(\u001b[38;5;28mself\u001b[39m\u001b[38;5;241m.\u001b[39mfc2(x)) \u001b[38;5;66;03m#Added for model 2\u001b[39;00m\n",
      "File \u001b[1;32mE:\\anaconda3\\envs\\PylonHome\\Lib\\site-packages\\torch\\nn\\modules\\module.py:1501\u001b[0m, in \u001b[0;36mModule._call_impl\u001b[1;34m(self, *args, **kwargs)\u001b[0m\n\u001b[0;32m   1496\u001b[0m \u001b[38;5;66;03m# If we don't have any hooks, we want to skip the rest of the logic in\u001b[39;00m\n\u001b[0;32m   1497\u001b[0m \u001b[38;5;66;03m# this function, and just call forward.\u001b[39;00m\n\u001b[0;32m   1498\u001b[0m \u001b[38;5;28;01mif\u001b[39;00m \u001b[38;5;129;01mnot\u001b[39;00m (\u001b[38;5;28mself\u001b[39m\u001b[38;5;241m.\u001b[39m_backward_hooks \u001b[38;5;129;01mor\u001b[39;00m \u001b[38;5;28mself\u001b[39m\u001b[38;5;241m.\u001b[39m_backward_pre_hooks \u001b[38;5;129;01mor\u001b[39;00m \u001b[38;5;28mself\u001b[39m\u001b[38;5;241m.\u001b[39m_forward_hooks \u001b[38;5;129;01mor\u001b[39;00m \u001b[38;5;28mself\u001b[39m\u001b[38;5;241m.\u001b[39m_forward_pre_hooks\n\u001b[0;32m   1499\u001b[0m         \u001b[38;5;129;01mor\u001b[39;00m _global_backward_pre_hooks \u001b[38;5;129;01mor\u001b[39;00m _global_backward_hooks\n\u001b[0;32m   1500\u001b[0m         \u001b[38;5;129;01mor\u001b[39;00m _global_forward_hooks \u001b[38;5;129;01mor\u001b[39;00m _global_forward_pre_hooks):\n\u001b[1;32m-> 1501\u001b[0m     \u001b[38;5;28;01mreturn\u001b[39;00m forward_call(\u001b[38;5;241m*\u001b[39margs, \u001b[38;5;241m*\u001b[39m\u001b[38;5;241m*\u001b[39mkwargs)\n\u001b[0;32m   1502\u001b[0m \u001b[38;5;66;03m# Do not call functions when jit is used\u001b[39;00m\n\u001b[0;32m   1503\u001b[0m full_backward_hooks, non_full_backward_hooks \u001b[38;5;241m=\u001b[39m [], []\n",
      "File \u001b[1;32mE:\\anaconda3\\envs\\PylonHome\\Lib\\site-packages\\torch\\nn\\modules\\linear.py:114\u001b[0m, in \u001b[0;36mLinear.forward\u001b[1;34m(self, input)\u001b[0m\n\u001b[0;32m    113\u001b[0m \u001b[38;5;28;01mdef\u001b[39;00m \u001b[38;5;21mforward\u001b[39m(\u001b[38;5;28mself\u001b[39m, \u001b[38;5;28minput\u001b[39m: Tensor) \u001b[38;5;241m-\u001b[39m\u001b[38;5;241m>\u001b[39m Tensor:\n\u001b[1;32m--> 114\u001b[0m     \u001b[38;5;28;01mreturn\u001b[39;00m F\u001b[38;5;241m.\u001b[39mlinear(\u001b[38;5;28minput\u001b[39m, \u001b[38;5;28mself\u001b[39m\u001b[38;5;241m.\u001b[39mweight, \u001b[38;5;28mself\u001b[39m\u001b[38;5;241m.\u001b[39mbias)\n",
      "\u001b[1;31mRuntimeError\u001b[0m: mat1 and mat2 shapes cannot be multiplied (4x2048 and 512x512)"
     ]
    }
   ],
   "source": [
    "from tqdm import tqdm\n",
    "from glob import glob\n",
    "\n",
    "files = glob('model_20240602_210951_*')\n",
    "\n",
    "num_corr = 0\n",
    "\n",
    "with torch.no_grad():\n",
    "    for file in files:\n",
    "        model = torch.load(file)\n",
    "        num_corr = 0\n",
    "        for i, tdata in tqdm(enumerate(testing_loader), total=len(testing_loader)):\n",
    "            tinputs, tlabels = tdata\n",
    "            toutputs = model(tinputs)\n",
    "            t_prob = nn.Softmax(dim=1)(toutputs)\n",
    "            t_pred = t_prob.argmax(1)\n",
    "            num_corr += sum(tlabels==t_pred)\n",
    "\n",
    "        accuracy = num_corr/len(testing_loader.dataset)\n",
    "        print(file+\" Accuracy = \", accuracy.item()*100)"
   ]
  },
  {
   "cell_type": "code",
   "execution_count": 118,
   "id": "73065e9a",
   "metadata": {},
   "outputs": [
    {
     "data": {
      "text/plain": [
       "5142"
      ]
     },
     "execution_count": 118,
     "metadata": {},
     "output_type": "execute_result"
    }
   ],
   "source": [
    "len(testing_loader.dataset)"
   ]
  },
  {
   "cell_type": "code",
   "execution_count": null,
   "id": "cd4e4849",
   "metadata": {},
   "outputs": [],
   "source": []
  }
 ],
 "metadata": {
  "kernelspec": {
   "display_name": "Python 3 (ipykernel)",
   "language": "python",
   "name": "python3"
  },
  "language_info": {
   "codemirror_mode": {
    "name": "ipython",
    "version": 3
   },
   "file_extension": ".py",
   "mimetype": "text/x-python",
   "name": "python",
   "nbconvert_exporter": "python",
   "pygments_lexer": "ipython3",
   "version": "3.11.7"
  }
 },
 "nbformat": 4,
 "nbformat_minor": 5
}
