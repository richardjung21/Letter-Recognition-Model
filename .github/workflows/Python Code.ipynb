{
 "cells": [
  {
   "cell_type": "code",
   "execution_count": 8,
   "id": "2f2711de",
   "metadata": {},
   "outputs": [],
   "source": [
    "import torch\n",
    "from torchvision.io import read_image\n",
    "from torchvision.io import ImageReadMode\n",
    "from sklearn import preprocessing\n",
    "import torch.nn.functional as F\n",
    "from torch import nn\n",
    "from torchvision.io import read_image\n",
    "from torch.utils.data import Dataset\n",
    "import pandas as pd\n",
    "from torch.utils.data import DataLoader"
   ]
  },
  {
   "cell_type": "code",
   "execution_count": 10,
   "id": "6a912bec",
   "metadata": {},
   "outputs": [
    {
     "name": "stdout",
     "output_type": "stream",
     "text": [
      "Using cpu device\n"
     ]
    }
   ],
   "source": [
    "device = (\n",
    "    \"cuda\"\n",
    "    if torch.cuda.is_available()\n",
    "    else \"mps\"\n",
    "    if torch.backends.mps.is_available()\n",
    "    else \"cpu\"\n",
    ")\n",
    "print(f\"Using {device} device\")"
   ]
  },
  {
   "cell_type": "code",
   "execution_count": 11,
   "id": "ea4b0850",
   "metadata": {},
   "outputs": [],
   "source": [
    "class Model(torch.nn.Module):\n",
    "    def __init__(self):\n",
    "        super(Model, self).__init__()\n",
    "        \n",
    "        self.conv1 = torch.nn.Conv2d(1, 32, 3, padding=1)\n",
    "        self.conv2 = torch.nn.Conv2d(32, 64, 3, padding=1)\n",
    "        \n",
    "        self.fc1 = torch.nn.Linear(512, 26)\n",
    "        \n",
    "    def forward(self, x):\n",
    "        x = F.max_pool2d(F.relu(self.conv1(x)), (2, 2))\n",
    "        x = F.max_pool2d(F.relu(self.conv2(x)), (2, 2))\n",
    "        #print('x_shape:', x.shape)\n",
    "        x = x.view(-1, self.num_flat_features(x))\n",
    "        x = F.dropout(x)\n",
    "        x = F.relu(self.fc1(x))\n",
    "        return x\n",
    "    \n",
    "    def num_flat_features(self, x):\n",
    "        size = x.size()[1:]\n",
    "        num_features = 1\n",
    "        for s in size:\n",
    "            num_features *= s\n",
    "        return num_features\n",
    "    \n",
    "model = Model().to(device)"
   ]
  },
  {
   "cell_type": "code",
   "execution_count": 12,
   "id": "01ab8e65",
   "metadata": {},
   "outputs": [],
   "source": [
    "model = torch.load('model.pth')"
   ]
  },
  {
   "cell_type": "code",
   "execution_count": 17,
   "id": "10bcb9ec",
   "metadata": {},
   "outputs": [
    {
     "name": "stdout",
     "output_type": "stream",
     "text": [
      "Predicted class: i\n"
     ]
    }
   ],
   "source": [
    "inp = read_image(\"i.jpg\", mode = ImageReadMode.GRAY)\n",
    "inp = inp.to(torch.float32).reshape((1,1,16,8))\n",
    "\n",
    "inp[inp<=40.] = 1\n",
    "inp[inp>40.] = 0\n",
    "\n",
    "pred = model(inp)\n",
    "pred_probab = nn.Softmax(dim=1)(pred)\n",
    "y_pred = pred_probab.argmax(1)\n",
    "print(f\"Predicted class: {chr(y_pred[0]+97)}\")"
   ]
  },
  {
   "cell_type": "code",
   "execution_count": null,
   "id": "815fc593",
   "metadata": {},
   "outputs": [],
   "source": []
  }
 ],
 "metadata": {
  "kernelspec": {
   "display_name": "Python 3 (ipykernel)",
   "language": "python",
   "name": "python3"
  },
  "language_info": {
   "codemirror_mode": {
    "name": "ipython",
    "version": 3
   },
   "file_extension": ".py",
   "mimetype": "text/x-python",
   "name": "python",
   "nbconvert_exporter": "python",
   "pygments_lexer": "ipython3",
   "version": "3.11.7"
  }
 },
 "nbformat": 4,
 "nbformat_minor": 5
}
